{
 "cells": [
  {
   "cell_type": "code",
   "execution_count": 1,
   "metadata": {},
   "outputs": [],
   "source": [
    "import numpy as np\n",
    "import pandas as pd\n",
    "import matplotlib.pyplot as plt\n",
    "from statsmodels.tsa.seasonal import seasonal_decompose\n",
    "from statsmodels.tsa.arima.model import ARIMA\n",
    "from statsmodels.tsa.stattools import acf, pacf\n",
    "from sklearn.model_selection import train_test_split\n",
    "from sklearn.metrics import mean_squared_error\n",
    "import warnings\n",
    "warnings.filterwarnings(\"ignore\")\n"
   ]
  },
  {
   "cell_type": "code",
   "execution_count": 2,
   "metadata": {},
   "outputs": [],
   "source": [
    "df_customer = pd.read_csv(\"Customer.csv\", delimiter=\";\")\n",
    "df_product = pd.read_csv(\"Product.csv\", delimiter=\";\")\n",
    "df_store = pd.read_csv(\"Store.csv\", delimiter=\";\")\n",
    "df_transaction = pd.read_csv(\"Transaction.csv\", delimiter=\";\")"
   ]
  },
  {
   "cell_type": "code",
   "execution_count": 3,
   "metadata": {},
   "outputs": [
    {
     "data": {
      "text/plain": [
       "((447, 5), (10, 3), (14, 6), (5020, 8))"
      ]
     },
     "execution_count": 3,
     "metadata": {},
     "output_type": "execute_result"
    }
   ],
   "source": [
    "df_customer.shape, df_product.shape, df_store.shape, df_transaction.shape"
   ]
  },
  {
   "cell_type": "code",
   "execution_count": 4,
   "metadata": {},
   "outputs": [
    {
     "data": {
      "text/html": [
       "<div>\n",
       "<style scoped>\n",
       "    .dataframe tbody tr th:only-of-type {\n",
       "        vertical-align: middle;\n",
       "    }\n",
       "\n",
       "    .dataframe tbody tr th {\n",
       "        vertical-align: top;\n",
       "    }\n",
       "\n",
       "    .dataframe thead th {\n",
       "        text-align: right;\n",
       "    }\n",
       "</style>\n",
       "<table border=\"1\" class=\"dataframe\">\n",
       "  <thead>\n",
       "    <tr style=\"text-align: right;\">\n",
       "      <th></th>\n",
       "      <th>CustomerID</th>\n",
       "      <th>Age</th>\n",
       "      <th>Gender</th>\n",
       "      <th>Marital Status</th>\n",
       "      <th>Income</th>\n",
       "      <th>TransactionID</th>\n",
       "      <th>Date</th>\n",
       "      <th>ProductID</th>\n",
       "      <th>Price</th>\n",
       "      <th>Qty</th>\n",
       "      <th>TotalAmount</th>\n",
       "      <th>StoreID</th>\n",
       "      <th>Product Name</th>\n",
       "      <th>StoreName</th>\n",
       "      <th>GroupStore</th>\n",
       "      <th>Type</th>\n",
       "      <th>Latitude</th>\n",
       "      <th>Longitude</th>\n",
       "    </tr>\n",
       "  </thead>\n",
       "  <tbody>\n",
       "    <tr>\n",
       "      <th>0</th>\n",
       "      <td>1</td>\n",
       "      <td>55</td>\n",
       "      <td>1</td>\n",
       "      <td>Married</td>\n",
       "      <td>5,12</td>\n",
       "      <td>TR54475</td>\n",
       "      <td>23/02/2022</td>\n",
       "      <td>P8</td>\n",
       "      <td>16000</td>\n",
       "      <td>1</td>\n",
       "      <td>16000</td>\n",
       "      <td>9</td>\n",
       "      <td>Oat</td>\n",
       "      <td>Lingga</td>\n",
       "      <td>Lingga</td>\n",
       "      <td>Modern Trade</td>\n",
       "      <td>-3,654703</td>\n",
       "      <td>128,190643</td>\n",
       "    </tr>\n",
       "    <tr>\n",
       "      <th>1</th>\n",
       "      <td>5</td>\n",
       "      <td>58</td>\n",
       "      <td>1</td>\n",
       "      <td>Married</td>\n",
       "      <td>3,57</td>\n",
       "      <td>TR53643</td>\n",
       "      <td>22/05/2022</td>\n",
       "      <td>P8</td>\n",
       "      <td>16000</td>\n",
       "      <td>3</td>\n",
       "      <td>48000</td>\n",
       "      <td>9</td>\n",
       "      <td>Oat</td>\n",
       "      <td>Lingga</td>\n",
       "      <td>Lingga</td>\n",
       "      <td>Modern Trade</td>\n",
       "      <td>-3,654703</td>\n",
       "      <td>128,190643</td>\n",
       "    </tr>\n",
       "    <tr>\n",
       "      <th>2</th>\n",
       "      <td>7</td>\n",
       "      <td>31</td>\n",
       "      <td>0</td>\n",
       "      <td>Married</td>\n",
       "      <td>4,57</td>\n",
       "      <td>TR5151</td>\n",
       "      <td>10/03/2022</td>\n",
       "      <td>P8</td>\n",
       "      <td>16000</td>\n",
       "      <td>2</td>\n",
       "      <td>32000</td>\n",
       "      <td>9</td>\n",
       "      <td>Oat</td>\n",
       "      <td>Lingga</td>\n",
       "      <td>Lingga</td>\n",
       "      <td>Modern Trade</td>\n",
       "      <td>-3,654703</td>\n",
       "      <td>128,190643</td>\n",
       "    </tr>\n",
       "    <tr>\n",
       "      <th>3</th>\n",
       "      <td>19</td>\n",
       "      <td>24</td>\n",
       "      <td>1</td>\n",
       "      <td>Single</td>\n",
       "      <td>4,14</td>\n",
       "      <td>TR98635</td>\n",
       "      <td>18/06/2022</td>\n",
       "      <td>P8</td>\n",
       "      <td>16000</td>\n",
       "      <td>1</td>\n",
       "      <td>16000</td>\n",
       "      <td>9</td>\n",
       "      <td>Oat</td>\n",
       "      <td>Lingga</td>\n",
       "      <td>Lingga</td>\n",
       "      <td>Modern Trade</td>\n",
       "      <td>-3,654703</td>\n",
       "      <td>128,190643</td>\n",
       "    </tr>\n",
       "    <tr>\n",
       "      <th>4</th>\n",
       "      <td>28</td>\n",
       "      <td>55</td>\n",
       "      <td>0</td>\n",
       "      <td>Married</td>\n",
       "      <td>6,08</td>\n",
       "      <td>TR9420</td>\n",
       "      <td>12/01/2022</td>\n",
       "      <td>P8</td>\n",
       "      <td>16000</td>\n",
       "      <td>3</td>\n",
       "      <td>48000</td>\n",
       "      <td>9</td>\n",
       "      <td>Oat</td>\n",
       "      <td>Lingga</td>\n",
       "      <td>Lingga</td>\n",
       "      <td>Modern Trade</td>\n",
       "      <td>-3,654703</td>\n",
       "      <td>128,190643</td>\n",
       "    </tr>\n",
       "    <tr>\n",
       "      <th>...</th>\n",
       "      <td>...</td>\n",
       "      <td>...</td>\n",
       "      <td>...</td>\n",
       "      <td>...</td>\n",
       "      <td>...</td>\n",
       "      <td>...</td>\n",
       "      <td>...</td>\n",
       "      <td>...</td>\n",
       "      <td>...</td>\n",
       "      <td>...</td>\n",
       "      <td>...</td>\n",
       "      <td>...</td>\n",
       "      <td>...</td>\n",
       "      <td>...</td>\n",
       "      <td>...</td>\n",
       "      <td>...</td>\n",
       "      <td>...</td>\n",
       "      <td>...</td>\n",
       "    </tr>\n",
       "    <tr>\n",
       "      <th>5015</th>\n",
       "      <td>403</td>\n",
       "      <td>30</td>\n",
       "      <td>0</td>\n",
       "      <td>Married</td>\n",
       "      <td>4,06</td>\n",
       "      <td>TR21751</td>\n",
       "      <td>07/10/2022</td>\n",
       "      <td>P9</td>\n",
       "      <td>10000</td>\n",
       "      <td>5</td>\n",
       "      <td>50000</td>\n",
       "      <td>7</td>\n",
       "      <td>Yoghurt</td>\n",
       "      <td>Buana Indah</td>\n",
       "      <td>Buana</td>\n",
       "      <td>General Trade</td>\n",
       "      <td>3,316694</td>\n",
       "      <td>114,590111</td>\n",
       "    </tr>\n",
       "    <tr>\n",
       "      <th>5016</th>\n",
       "      <td>410</td>\n",
       "      <td>55</td>\n",
       "      <td>1</td>\n",
       "      <td>Married</td>\n",
       "      <td>8,68</td>\n",
       "      <td>TR86692</td>\n",
       "      <td>05/04/2022</td>\n",
       "      <td>P9</td>\n",
       "      <td>10000</td>\n",
       "      <td>2</td>\n",
       "      <td>20000</td>\n",
       "      <td>7</td>\n",
       "      <td>Yoghurt</td>\n",
       "      <td>Buana Indah</td>\n",
       "      <td>Buana</td>\n",
       "      <td>General Trade</td>\n",
       "      <td>3,316694</td>\n",
       "      <td>114,590111</td>\n",
       "    </tr>\n",
       "    <tr>\n",
       "      <th>5017</th>\n",
       "      <td>411</td>\n",
       "      <td>19</td>\n",
       "      <td>1</td>\n",
       "      <td>Single</td>\n",
       "      <td>0</td>\n",
       "      <td>TR67993</td>\n",
       "      <td>23/10/2022</td>\n",
       "      <td>P9</td>\n",
       "      <td>10000</td>\n",
       "      <td>2</td>\n",
       "      <td>20000</td>\n",
       "      <td>7</td>\n",
       "      <td>Yoghurt</td>\n",
       "      <td>Buana Indah</td>\n",
       "      <td>Buana</td>\n",
       "      <td>General Trade</td>\n",
       "      <td>3,316694</td>\n",
       "      <td>114,590111</td>\n",
       "    </tr>\n",
       "    <tr>\n",
       "      <th>5018</th>\n",
       "      <td>427</td>\n",
       "      <td>54</td>\n",
       "      <td>0</td>\n",
       "      <td>Married</td>\n",
       "      <td>16,88</td>\n",
       "      <td>TR28578</td>\n",
       "      <td>30/10/2022</td>\n",
       "      <td>P9</td>\n",
       "      <td>10000</td>\n",
       "      <td>3</td>\n",
       "      <td>30000</td>\n",
       "      <td>7</td>\n",
       "      <td>Yoghurt</td>\n",
       "      <td>Buana Indah</td>\n",
       "      <td>Buana</td>\n",
       "      <td>General Trade</td>\n",
       "      <td>3,316694</td>\n",
       "      <td>114,590111</td>\n",
       "    </tr>\n",
       "    <tr>\n",
       "      <th>5019</th>\n",
       "      <td>442</td>\n",
       "      <td>42</td>\n",
       "      <td>1</td>\n",
       "      <td>Married</td>\n",
       "      <td>14,88</td>\n",
       "      <td>TR88485</td>\n",
       "      <td>22/07/2022</td>\n",
       "      <td>P9</td>\n",
       "      <td>10000</td>\n",
       "      <td>7</td>\n",
       "      <td>70000</td>\n",
       "      <td>7</td>\n",
       "      <td>Yoghurt</td>\n",
       "      <td>Buana Indah</td>\n",
       "      <td>Buana</td>\n",
       "      <td>General Trade</td>\n",
       "      <td>3,316694</td>\n",
       "      <td>114,590111</td>\n",
       "    </tr>\n",
       "  </tbody>\n",
       "</table>\n",
       "<p>5020 rows × 18 columns</p>\n",
       "</div>"
      ],
      "text/plain": [
       "      CustomerID  Age  Gender Marital Status Income TransactionID        Date   \n",
       "0              1   55       1        Married   5,12       TR54475  23/02/2022  \\\n",
       "1              5   58       1        Married   3,57       TR53643  22/05/2022   \n",
       "2              7   31       0        Married   4,57        TR5151  10/03/2022   \n",
       "3             19   24       1         Single   4,14       TR98635  18/06/2022   \n",
       "4             28   55       0        Married   6,08        TR9420  12/01/2022   \n",
       "...          ...  ...     ...            ...    ...           ...         ...   \n",
       "5015         403   30       0        Married   4,06       TR21751  07/10/2022   \n",
       "5016         410   55       1        Married   8,68       TR86692  05/04/2022   \n",
       "5017         411   19       1         Single      0       TR67993  23/10/2022   \n",
       "5018         427   54       0        Married  16,88       TR28578  30/10/2022   \n",
       "5019         442   42       1        Married  14,88       TR88485  22/07/2022   \n",
       "\n",
       "     ProductID  Price  Qty  TotalAmount  StoreID Product Name    StoreName   \n",
       "0           P8  16000    1        16000        9          Oat       Lingga  \\\n",
       "1           P8  16000    3        48000        9          Oat       Lingga   \n",
       "2           P8  16000    2        32000        9          Oat       Lingga   \n",
       "3           P8  16000    1        16000        9          Oat       Lingga   \n",
       "4           P8  16000    3        48000        9          Oat       Lingga   \n",
       "...        ...    ...  ...          ...      ...          ...          ...   \n",
       "5015        P9  10000    5        50000        7      Yoghurt  Buana Indah   \n",
       "5016        P9  10000    2        20000        7      Yoghurt  Buana Indah   \n",
       "5017        P9  10000    2        20000        7      Yoghurt  Buana Indah   \n",
       "5018        P9  10000    3        30000        7      Yoghurt  Buana Indah   \n",
       "5019        P9  10000    7        70000        7      Yoghurt  Buana Indah   \n",
       "\n",
       "     GroupStore           Type   Latitude   Longitude  \n",
       "0        Lingga   Modern Trade  -3,654703  128,190643  \n",
       "1        Lingga   Modern Trade  -3,654703  128,190643  \n",
       "2        Lingga   Modern Trade  -3,654703  128,190643  \n",
       "3        Lingga   Modern Trade  -3,654703  128,190643  \n",
       "4        Lingga   Modern Trade  -3,654703  128,190643  \n",
       "...         ...            ...        ...         ...  \n",
       "5015      Buana  General Trade   3,316694  114,590111  \n",
       "5016      Buana  General Trade   3,316694  114,590111  \n",
       "5017      Buana  General Trade   3,316694  114,590111  \n",
       "5018      Buana  General Trade   3,316694  114,590111  \n",
       "5019      Buana  General Trade   3,316694  114,590111  \n",
       "\n",
       "[5020 rows x 18 columns]"
      ]
     },
     "execution_count": 4,
     "metadata": {},
     "output_type": "execute_result"
    }
   ],
   "source": [
    "df = pd.merge(pd.merge(pd.merge(df_customer, df_transaction, on='CustomerID'), df_product, on='ProductID'), df_store, on='StoreID')\n",
    "df = df.drop(columns = \"Price_y\")\n",
    "df.rename(columns={'Price_x': 'Price'}, inplace=True)\n",
    "df"
   ]
  },
  {
   "cell_type": "code",
   "execution_count": 5,
   "metadata": {},
   "outputs": [
    {
     "name": "stdout",
     "output_type": "stream",
     "text": [
      "<class 'pandas.core.frame.DataFrame'>\n",
      "RangeIndex: 5020 entries, 0 to 5019\n",
      "Data columns (total 18 columns):\n",
      " #   Column          Non-Null Count  Dtype \n",
      "---  ------          --------------  ----- \n",
      " 0   CustomerID      5020 non-null   int64 \n",
      " 1   Age             5020 non-null   int64 \n",
      " 2   Gender          5020 non-null   int64 \n",
      " 3   Marital Status  4976 non-null   object\n",
      " 4   Income          5020 non-null   object\n",
      " 5   TransactionID   5020 non-null   object\n",
      " 6   Date            5020 non-null   object\n",
      " 7   ProductID       5020 non-null   object\n",
      " 8   Price           5020 non-null   int64 \n",
      " 9   Qty             5020 non-null   int64 \n",
      " 10  TotalAmount     5020 non-null   int64 \n",
      " 11  StoreID         5020 non-null   int64 \n",
      " 12  Product Name    5020 non-null   object\n",
      " 13  StoreName       5020 non-null   object\n",
      " 14  GroupStore      5020 non-null   object\n",
      " 15  Type            5020 non-null   object\n",
      " 16  Latitude        5020 non-null   object\n",
      " 17  Longitude       5020 non-null   object\n",
      "dtypes: int64(7), object(11)\n",
      "memory usage: 706.1+ KB\n"
     ]
    }
   ],
   "source": [
    "df.info()"
   ]
  },
  {
   "cell_type": "code",
   "execution_count": 6,
   "metadata": {},
   "outputs": [],
   "source": [
    "df['Income'] = df['Income'].replace('[,]', '.', regex=True).astype('float')\n",
    "df['Latitude'] = df['Latitude'].replace('[,]', '.', regex=True).astype('float')\n",
    "df['Longitude'] = df['Longitude'].replace('[,]', '.', regex=True).astype('float')\n",
    "df['Date'] = pd.to_datetime(df['Date'], format='%d/%m/%Y', dayfirst=True)"
   ]
  },
  {
   "cell_type": "code",
   "execution_count": 7,
   "metadata": {},
   "outputs": [
    {
     "name": "stdout",
     "output_type": "stream",
     "text": [
      "<class 'pandas.core.frame.DataFrame'>\n",
      "RangeIndex: 5020 entries, 0 to 5019\n",
      "Data columns (total 18 columns):\n",
      " #   Column          Non-Null Count  Dtype         \n",
      "---  ------          --------------  -----         \n",
      " 0   CustomerID      5020 non-null   int64         \n",
      " 1   Age             5020 non-null   int64         \n",
      " 2   Gender          5020 non-null   int64         \n",
      " 3   Marital Status  4976 non-null   object        \n",
      " 4   Income          5020 non-null   float64       \n",
      " 5   TransactionID   5020 non-null   object        \n",
      " 6   Date            5020 non-null   datetime64[ns]\n",
      " 7   ProductID       5020 non-null   object        \n",
      " 8   Price           5020 non-null   int64         \n",
      " 9   Qty             5020 non-null   int64         \n",
      " 10  TotalAmount     5020 non-null   int64         \n",
      " 11  StoreID         5020 non-null   int64         \n",
      " 12  Product Name    5020 non-null   object        \n",
      " 13  StoreName       5020 non-null   object        \n",
      " 14  GroupStore      5020 non-null   object        \n",
      " 15  Type            5020 non-null   object        \n",
      " 16  Latitude        5020 non-null   float64       \n",
      " 17  Longitude       5020 non-null   float64       \n",
      "dtypes: datetime64[ns](1), float64(3), int64(7), object(7)\n",
      "memory usage: 706.1+ KB\n"
     ]
    }
   ],
   "source": [
    "df.info()"
   ]
  },
  {
   "attachments": {},
   "cell_type": "markdown",
   "metadata": {},
   "source": [
    "### Mengecek dan Mengatasi Missing Value"
   ]
  },
  {
   "cell_type": "code",
   "execution_count": 8,
   "metadata": {},
   "outputs": [
    {
     "data": {
      "text/plain": [
       "CustomerID         0\n",
       "Age                0\n",
       "Gender             0\n",
       "Marital Status    44\n",
       "Income             0\n",
       "TransactionID      0\n",
       "Date               0\n",
       "ProductID          0\n",
       "Price              0\n",
       "Qty                0\n",
       "TotalAmount        0\n",
       "StoreID            0\n",
       "Product Name       0\n",
       "StoreName          0\n",
       "GroupStore         0\n",
       "Type               0\n",
       "Latitude           0\n",
       "Longitude          0\n",
       "dtype: int64"
      ]
     },
     "execution_count": 8,
     "metadata": {},
     "output_type": "execute_result"
    }
   ],
   "source": [
    "df.isnull().sum()"
   ]
  },
  {
   "cell_type": "code",
   "execution_count": 9,
   "metadata": {},
   "outputs": [],
   "source": [
    "# Membuat array nilai yang tersedia di kolom 'Marital Status' tanpa nilai yang hilang\n",
    "available_values = df['Marital Status'].dropna().unique()\n",
    "\n",
    "# Mengganti setiap nilai yang hilang dengan nilai acak dari array nilai yang tersedia\n",
    "for index, row in df.iterrows():\n",
    "    if pd.isnull(row['Marital Status']):\n",
    "        df.at[index, 'Marital Status'] = np.random.choice(available_values)"
   ]
  },
  {
   "cell_type": "code",
   "execution_count": 10,
   "metadata": {},
   "outputs": [
    {
     "data": {
      "text/plain": [
       "CustomerID        0\n",
       "Age               0\n",
       "Gender            0\n",
       "Marital Status    0\n",
       "Income            0\n",
       "TransactionID     0\n",
       "Date              0\n",
       "ProductID         0\n",
       "Price             0\n",
       "Qty               0\n",
       "TotalAmount       0\n",
       "StoreID           0\n",
       "Product Name      0\n",
       "StoreName         0\n",
       "GroupStore        0\n",
       "Type              0\n",
       "Latitude          0\n",
       "Longitude         0\n",
       "dtype: int64"
      ]
     },
     "execution_count": 10,
     "metadata": {},
     "output_type": "execute_result"
    }
   ],
   "source": [
    "#mengecek missing value setelah dilakukan pembersihan\n",
    "df.isnull().sum()"
   ]
  },
  {
   "attachments": {},
   "cell_type": "markdown",
   "metadata": {},
   "source": [
    "### Mengecek dan Mengatasi Data Duplicate"
   ]
  },
  {
   "cell_type": "code",
   "execution_count": 11,
   "metadata": {},
   "outputs": [
    {
     "data": {
      "text/plain": [
       "CustomerID         447\n",
       "Age                 54\n",
       "Gender               2\n",
       "Marital Status       2\n",
       "Income             369\n",
       "TransactionID     4908\n",
       "Date               365\n",
       "ProductID           10\n",
       "Price               10\n",
       "Qty                 10\n",
       "TotalAmount         44\n",
       "StoreID             14\n",
       "Product Name        10\n",
       "StoreName           12\n",
       "GroupStore           7\n",
       "Type                 2\n",
       "Latitude            14\n",
       "Longitude           14\n",
       "dtype: int64"
      ]
     },
     "execution_count": 11,
     "metadata": {},
     "output_type": "execute_result"
    }
   ],
   "source": [
    "#mengecek nilai unik dari setiap kolom\n",
    "df.nunique()"
   ]
  },
  {
   "cell_type": "code",
   "execution_count": 12,
   "metadata": {},
   "outputs": [
    {
     "data": {
      "text/plain": [
       "TransactionID\n",
       "TR71313    3\n",
       "TR74019    2\n",
       "TR38919    2\n",
       "TR87715    2\n",
       "TR54287    2\n",
       "          ..\n",
       "TR63136    1\n",
       "TR11280    1\n",
       "TR7587     1\n",
       "TR5274     1\n",
       "TR28578    1\n",
       "Name: count, Length: 4908, dtype: int64"
      ]
     },
     "execution_count": 12,
     "metadata": {},
     "output_type": "execute_result"
    }
   ],
   "source": [
    "df['TransactionID'].value_counts()"
   ]
  },
  {
   "cell_type": "code",
   "execution_count": 13,
   "metadata": {},
   "outputs": [],
   "source": [
    "# Menghapus data duplikat berdasarkan kolom 'TransactionID', dengan mempertahankan baris terakhir\n",
    "df.drop_duplicates(subset=['TransactionID'], keep='last', inplace=True)"
   ]
  },
  {
   "cell_type": "code",
   "execution_count": 14,
   "metadata": {},
   "outputs": [
    {
     "data": {
      "text/plain": [
       "TransactionID\n",
       "TR54475    1\n",
       "TR74254    1\n",
       "TR95040    1\n",
       "TR8182     1\n",
       "TR47837    1\n",
       "          ..\n",
       "TR15464    1\n",
       "TR25829    1\n",
       "TR29269    1\n",
       "TR26836    1\n",
       "TR88485    1\n",
       "Name: count, Length: 4908, dtype: int64"
      ]
     },
     "execution_count": 14,
     "metadata": {},
     "output_type": "execute_result"
    }
   ],
   "source": [
    "df['TransactionID'].value_counts()"
   ]
  },
  {
   "attachments": {},
   "cell_type": "markdown",
   "metadata": {},
   "source": [
    "# **Forecasting**"
   ]
  },
  {
   "cell_type": "code",
   "execution_count": 15,
   "metadata": {},
   "outputs": [
    {
     "data": {
      "text/html": [
       "<div>\n",
       "<style scoped>\n",
       "    .dataframe tbody tr th:only-of-type {\n",
       "        vertical-align: middle;\n",
       "    }\n",
       "\n",
       "    .dataframe tbody tr th {\n",
       "        vertical-align: top;\n",
       "    }\n",
       "\n",
       "    .dataframe thead th {\n",
       "        text-align: right;\n",
       "    }\n",
       "</style>\n",
       "<table border=\"1\" class=\"dataframe\">\n",
       "  <thead>\n",
       "    <tr style=\"text-align: right;\">\n",
       "      <th></th>\n",
       "      <th>Date</th>\n",
       "      <th>Qty</th>\n",
       "    </tr>\n",
       "  </thead>\n",
       "  <tbody>\n",
       "    <tr>\n",
       "      <th>0</th>\n",
       "      <td>2022-01-01</td>\n",
       "      <td>49</td>\n",
       "    </tr>\n",
       "    <tr>\n",
       "      <th>1</th>\n",
       "      <td>2022-01-02</td>\n",
       "      <td>59</td>\n",
       "    </tr>\n",
       "    <tr>\n",
       "      <th>2</th>\n",
       "      <td>2022-01-03</td>\n",
       "      <td>63</td>\n",
       "    </tr>\n",
       "    <tr>\n",
       "      <th>3</th>\n",
       "      <td>2022-01-04</td>\n",
       "      <td>43</td>\n",
       "    </tr>\n",
       "    <tr>\n",
       "      <th>4</th>\n",
       "      <td>2022-01-05</td>\n",
       "      <td>30</td>\n",
       "    </tr>\n",
       "    <tr>\n",
       "      <th>...</th>\n",
       "      <td>...</td>\n",
       "      <td>...</td>\n",
       "    </tr>\n",
       "    <tr>\n",
       "      <th>360</th>\n",
       "      <td>2022-12-27</td>\n",
       "      <td>70</td>\n",
       "    </tr>\n",
       "    <tr>\n",
       "      <th>361</th>\n",
       "      <td>2022-12-28</td>\n",
       "      <td>68</td>\n",
       "    </tr>\n",
       "    <tr>\n",
       "      <th>362</th>\n",
       "      <td>2022-12-29</td>\n",
       "      <td>42</td>\n",
       "    </tr>\n",
       "    <tr>\n",
       "      <th>363</th>\n",
       "      <td>2022-12-30</td>\n",
       "      <td>41</td>\n",
       "    </tr>\n",
       "    <tr>\n",
       "      <th>364</th>\n",
       "      <td>2022-12-31</td>\n",
       "      <td>37</td>\n",
       "    </tr>\n",
       "  </tbody>\n",
       "</table>\n",
       "<p>365 rows × 2 columns</p>\n",
       "</div>"
      ],
      "text/plain": [
       "          Date  Qty\n",
       "0   2022-01-01   49\n",
       "1   2022-01-02   59\n",
       "2   2022-01-03   63\n",
       "3   2022-01-04   43\n",
       "4   2022-01-05   30\n",
       "..         ...  ...\n",
       "360 2022-12-27   70\n",
       "361 2022-12-28   68\n",
       "362 2022-12-29   42\n",
       "363 2022-12-30   41\n",
       "364 2022-12-31   37\n",
       "\n",
       "[365 rows x 2 columns]"
      ]
     },
     "execution_count": 15,
     "metadata": {},
     "output_type": "execute_result"
    }
   ],
   "source": [
    "df_regression = df.groupby('Date')['Qty'].sum().reset_index()\n",
    "df_regression"
   ]
  },
  {
   "cell_type": "code",
   "execution_count": 16,
   "metadata": {},
   "outputs": [
    {
     "data": {
      "image/png": "[encoded data removed]",
      "text/plain": [
       "<Figure size 900x500 with 1 Axes>"
      ]
     },
     "metadata": {},
     "output_type": "display_data"
    }
   ],
   "source": [
    "fig, ax = plt.subplots(figsize=(9, 5))\n",
    "plt.plot(df_regression['Date'], df_regression['Qty'], color='lightblue', label='Qty')\n",
    "plt.xlabel('Date')\n",
    "plt.ylabel('Qty')\n",
    "plt.title('Time Series in One Year')\n",
    "plt.legend()\n",
    "plt.tight_layout()\n",
    "plt.show()"
   ]
  },
  {
   "cell_type": "code",
   "execution_count": 17,
   "metadata": {},
   "outputs": [
    {
     "data": {
      "image/png": "[encoded data removed]",
      "text/plain": [
       "<Figure size 1000x800 with 3 Axes>"
      ]
     },
     "metadata": {},
     "output_type": "display_data"
    }
   ],
   "source": [
    "# Melakukan dekomposisi data\n",
    "decomposed = seasonal_decompose(df_regression.set_index('Date'))\n",
    "\n",
    "# Menampilkan plot tren menggunakan dekomposisi\n",
    "plt.figure(figsize=(10, 8))\n",
    "\n",
    "plt.subplot(311)\n",
    "decomposed.trend.plot(ax=plt.gca())\n",
    "plt.title('Trend')\n",
    "\n",
    "plt.subplot(312)\n",
    "decomposed.seasonal.plot(ax=plt.gca())\n",
    "plt.title('Seasonality')\n",
    "\n",
    "plt.subplot(313)\n",
    "decomposed.resid.plot(ax=plt.gca())\n",
    "plt.title('Residual')\n",
    "\n",
    "plt.tight_layout()\n",
    "plt.show()\n"
   ]
  },
  {
   "cell_type": "code",
   "execution_count": 16,
   "metadata": {},
   "outputs": [
    {
     "name": "stdout",
     "output_type": "stream",
     "text": [
      "ADF Statistic: -19.131655296406304\n",
      "p-value: 0.0\n",
      "Critical Values:\n",
      "\t1%: -3.4484434475193777\n",
      "\t5%: -2.869513170510808\n",
      "\t10%: -2.571017574266393\n",
      "\n",
      "The data is stationary (reject the null hypothesis)\n"
     ]
    }
   ],
   "source": [
    "from statsmodels.tsa.stattools import adfuller\n",
    "\n",
    "# Melakukan uji stasioneritas menggunakan Augmented Dickey-Fuller (ADF) test\n",
    "result = adfuller(df_regression['Qty'])\n",
    "print('ADF Statistic:', result[0])\n",
    "print('p-value:', result[1])\n",
    "print('Critical Values:')\n",
    "for key, value in result[4].items():\n",
    "    print(f'\\t{key}: {value}')\n",
    "\n",
    "if result[1] <= 0.05:\n",
    "  print(\"\\nThe data is stationary (reject the null hypothesis)\")\n",
    "else:\n",
    "  print(\"\\nThe data is non-stationary (fail to reject the null hypothesis)\")\n"
   ]
  },
  {
   "cell_type": "code",
   "execution_count": 17,
   "metadata": {},
   "outputs": [
    {
     "data": {
      "text/plain": [
       "<Figure size 1200x600 with 0 Axes>"
      ]
     },
     "metadata": {},
     "output_type": "display_data"
    },
    {
     "data": {
      "image/png": "[encoded data removed]",
      "text/plain": [
       "<Figure size 640x480 with 1 Axes>"
      ]
     },
     "metadata": {},
     "output_type": "display_data"
    },
    {
     "data": {
      "text/plain": [
       "<Figure size 1200x600 with 0 Axes>"
      ]
     },
     "metadata": {},
     "output_type": "display_data"
    },
    {
     "data": {
      "image/png": "[encoded data removed]",
      "text/plain": [
       "<Figure size 640x480 with 1 Axes>"
      ]
     },
     "metadata": {},
     "output_type": "display_data"
    }
   ],
   "source": [
    "from statsmodels.graphics.tsaplots import plot_acf, plot_pacf\n",
    "\n",
    "# Plot ACF\n",
    "plt.figure(figsize=(12, 6))\n",
    "plot_acf(df_regression['Qty'], lags=50, alpha=0.05)\n",
    "plt.title('Autocorrelation Function (ACF)')\n",
    "plt.show()\n",
    "\n",
    "# Plot PACF\n",
    "plt.figure(figsize=(12, 6))\n",
    "plot_pacf(df_regression['Qty'], lags=50, alpha=0.05)\n",
    "plt.title('Partial Autocorrelation Function (PACF)')\n",
    "plt.show()\n"
   ]
  },
  {
   "cell_type": "code",
   "execution_count": 20,
   "metadata": {},
   "outputs": [],
   "source": [
    "# from pmdarima import auto_arima\n",
    "\n",
    "# # Gunakan metode Auto ARIMA untuk mendapatkan nilai p, d, dan q yang optimal\n",
    "# stepwise_fit = auto_arima(df_regression['Qty'], start_p=1, start_q=1,\n",
    "#                           max_p=50, max_q=50, m=12,\n",
    "#                           start_P=0, seasonal=True,\n",
    "#                           d=0, D=0, trace=True,\n",
    "#                           error_action='ignore',  \n",
    "#                           suppress_warnings=True, \n",
    "#                           stepwise=True)\n"
   ]
  },
  {
   "cell_type": "code",
   "execution_count": 18,
   "metadata": {},
   "outputs": [],
   "source": [
    "cut_off = round(df_regression.shape[0] * 0.8) \n",
    "df_train = df_regression[:cut_off]\n",
    "df_test = df_regression[cut_off:].reset_index(drop=True)"
   ]
  },
  {
   "cell_type": "code",
   "execution_count": 19,
   "metadata": {},
   "outputs": [
    {
     "data": {
      "text/html": [
       "<div>\n",
       "<style scoped>\n",
       "    .dataframe tbody tr th:only-of-type {\n",
       "        vertical-align: middle;\n",
       "    }\n",
       "\n",
       "    .dataframe tbody tr th {\n",
       "        vertical-align: top;\n",
       "    }\n",
       "\n",
       "    .dataframe thead th {\n",
       "        text-align: right;\n",
       "    }\n",
       "</style>\n",
       "<table border=\"1\" class=\"dataframe\">\n",
       "  <thead>\n",
       "    <tr style=\"text-align: right;\">\n",
       "      <th></th>\n",
       "      <th>Date</th>\n",
       "      <th>Qty</th>\n",
       "    </tr>\n",
       "  </thead>\n",
       "  <tbody>\n",
       "    <tr>\n",
       "      <th>0</th>\n",
       "      <td>2022-01-01</td>\n",
       "      <td>49</td>\n",
       "    </tr>\n",
       "    <tr>\n",
       "      <th>1</th>\n",
       "      <td>2022-01-02</td>\n",
       "      <td>59</td>\n",
       "    </tr>\n",
       "    <tr>\n",
       "      <th>2</th>\n",
       "      <td>2022-01-03</td>\n",
       "      <td>63</td>\n",
       "    </tr>\n",
       "    <tr>\n",
       "      <th>3</th>\n",
       "      <td>2022-01-04</td>\n",
       "      <td>43</td>\n",
       "    </tr>\n",
       "    <tr>\n",
       "      <th>4</th>\n",
       "      <td>2022-01-05</td>\n",
       "      <td>30</td>\n",
       "    </tr>\n",
       "    <tr>\n",
       "      <th>...</th>\n",
       "      <td>...</td>\n",
       "      <td>...</td>\n",
       "    </tr>\n",
       "    <tr>\n",
       "      <th>287</th>\n",
       "      <td>2022-10-15</td>\n",
       "      <td>33</td>\n",
       "    </tr>\n",
       "    <tr>\n",
       "      <th>288</th>\n",
       "      <td>2022-10-16</td>\n",
       "      <td>26</td>\n",
       "    </tr>\n",
       "    <tr>\n",
       "      <th>289</th>\n",
       "      <td>2022-10-17</td>\n",
       "      <td>53</td>\n",
       "    </tr>\n",
       "    <tr>\n",
       "      <th>290</th>\n",
       "      <td>2022-10-18</td>\n",
       "      <td>47</td>\n",
       "    </tr>\n",
       "    <tr>\n",
       "      <th>291</th>\n",
       "      <td>2022-10-19</td>\n",
       "      <td>34</td>\n",
       "    </tr>\n",
       "  </tbody>\n",
       "</table>\n",
       "<p>292 rows × 2 columns</p>\n",
       "</div>"
      ],
      "text/plain": [
       "          Date  Qty\n",
       "0   2022-01-01   49\n",
       "1   2022-01-02   59\n",
       "2   2022-01-03   63\n",
       "3   2022-01-04   43\n",
       "4   2022-01-05   30\n",
       "..         ...  ...\n",
       "287 2022-10-15   33\n",
       "288 2022-10-16   26\n",
       "289 2022-10-17   53\n",
       "290 2022-10-18   47\n",
       "291 2022-10-19   34\n",
       "\n",
       "[292 rows x 2 columns]"
      ]
     },
     "execution_count": 19,
     "metadata": {},
     "output_type": "execute_result"
    }
   ],
   "source": [
    "df_train"
   ]
  },
  {
   "cell_type": "code",
   "execution_count": 20,
   "metadata": {},
   "outputs": [
    {
     "data": {
      "text/html": [
       "<div>\n",
       "<style scoped>\n",
       "    .dataframe tbody tr th:only-of-type {\n",
       "        vertical-align: middle;\n",
       "    }\n",
       "\n",
       "    .dataframe tbody tr th {\n",
       "        vertical-align: top;\n",
       "    }\n",
       "\n",
       "    .dataframe thead th {\n",
       "        text-align: right;\n",
       "    }\n",
       "</style>\n",
       "<table border=\"1\" class=\"dataframe\">\n",
       "  <thead>\n",
       "    <tr style=\"text-align: right;\">\n",
       "      <th></th>\n",
       "      <th>Date</th>\n",
       "      <th>Qty</th>\n",
       "    </tr>\n",
       "  </thead>\n",
       "  <tbody>\n",
       "    <tr>\n",
       "      <th>0</th>\n",
       "      <td>2022-10-20</td>\n",
       "      <td>39</td>\n",
       "    </tr>\n",
       "    <tr>\n",
       "      <th>1</th>\n",
       "      <td>2022-10-21</td>\n",
       "      <td>35</td>\n",
       "    </tr>\n",
       "    <tr>\n",
       "      <th>2</th>\n",
       "      <td>2022-10-22</td>\n",
       "      <td>56</td>\n",
       "    </tr>\n",
       "    <tr>\n",
       "      <th>3</th>\n",
       "      <td>2022-10-23</td>\n",
       "      <td>59</td>\n",
       "    </tr>\n",
       "    <tr>\n",
       "      <th>4</th>\n",
       "      <td>2022-10-24</td>\n",
       "      <td>39</td>\n",
       "    </tr>\n",
       "    <tr>\n",
       "      <th>...</th>\n",
       "      <td>...</td>\n",
       "      <td>...</td>\n",
       "    </tr>\n",
       "    <tr>\n",
       "      <th>68</th>\n",
       "      <td>2022-12-27</td>\n",
       "      <td>70</td>\n",
       "    </tr>\n",
       "    <tr>\n",
       "      <th>69</th>\n",
       "      <td>2022-12-28</td>\n",
       "      <td>68</td>\n",
       "    </tr>\n",
       "    <tr>\n",
       "      <th>70</th>\n",
       "      <td>2022-12-29</td>\n",
       "      <td>42</td>\n",
       "    </tr>\n",
       "    <tr>\n",
       "      <th>71</th>\n",
       "      <td>2022-12-30</td>\n",
       "      <td>41</td>\n",
       "    </tr>\n",
       "    <tr>\n",
       "      <th>72</th>\n",
       "      <td>2022-12-31</td>\n",
       "      <td>37</td>\n",
       "    </tr>\n",
       "  </tbody>\n",
       "</table>\n",
       "<p>73 rows × 2 columns</p>\n",
       "</div>"
      ],
      "text/plain": [
       "         Date  Qty\n",
       "0  2022-10-20   39\n",
       "1  2022-10-21   35\n",
       "2  2022-10-22   56\n",
       "3  2022-10-23   59\n",
       "4  2022-10-24   39\n",
       "..        ...  ...\n",
       "68 2022-12-27   70\n",
       "69 2022-12-28   68\n",
       "70 2022-12-29   42\n",
       "71 2022-12-30   41\n",
       "72 2022-12-31   37\n",
       "\n",
       "[73 rows x 2 columns]"
      ]
     },
     "execution_count": 20,
     "metadata": {},
     "output_type": "execute_result"
    }
   ],
   "source": [
    "df_test"
   ]
  },
  {
   "cell_type": "code",
   "execution_count": 24,
   "metadata": {},
   "outputs": [
    {
     "data": {
      "image/png": "[encoded data removed]",
      "text/plain": [
       "<Figure size 2000x500 with 1 Axes>"
      ]
     },
     "metadata": {},
     "output_type": "display_data"
    }
   ],
   "source": [
    "\n",
    "plt.figure(figsize=(20, 5))\n",
    "plt.plot(df_train['Date'], df_train['Qty'], label='Train Data', color='blue')\n",
    "plt.plot(df_test['Date'], df_test['Qty'], label='Test Data', color='lightgreen')\n",
    "plt.title('Train and Test Data')\n",
    "plt.xlabel('Date')\n",
    "plt.ylabel('Qty')\n",
    "plt.legend()\n",
    "plt.xticks(rotation=45)  \n",
    "plt.show()"
   ]
  },
  {
   "cell_type": "code",
   "execution_count": 23,
   "metadata": {},
   "outputs": [
    {
     "name": "stdout",
     "output_type": "stream",
     "text": [
      "Nilai AIC: 2476.644241734637\n"
     ]
    }
   ],
   "source": [
    "import statsmodels.api as sm\n",
    "\n",
    "p  = 0\n",
    "q = 0\n",
    "model = sm.tsa.ARIMA(df_train['Qty'], order=(p, 0, q))\n",
    "model_fit = model.fit()\n",
    "\n",
    "# Mendapatkan nilai AIC\n",
    "aic = model_fit.aic\n",
    "\n",
    "print(f\"Nilai AIC: {aic}\")"
   ]
  },
  {
   "cell_type": "code",
   "execution_count": 24,
   "metadata": {},
   "outputs": [
    {
     "name": "stdout",
     "output_type": "stream",
     "text": [
      "Nilai AIC: 2479.800640406495\n"
     ]
    }
   ],
   "source": [
    "import statsmodels.api as sm\n",
    "\n",
    "p  = 0\n",
    "q = 4\n",
    "model = sm.tsa.ARIMA(df_train['Qty'], order=(p, 0, q))\n",
    "model_fit = model.fit()\n",
    "\n",
    "# Mendapatkan nilai AIC\n",
    "aic = model_fit.aic\n",
    "\n",
    "print(f\"Nilai AIC: {aic}\")"
   ]
  },
  {
   "cell_type": "code",
   "execution_count": 25,
   "metadata": {},
   "outputs": [
    {
     "name": "stdout",
     "output_type": "stream",
     "text": [
      "Nilai AIC: 2481.5657050329055\n"
     ]
    }
   ],
   "source": [
    "import statsmodels.api as sm\n",
    "\n",
    "p  = 0\n",
    "q = 8\n",
    "model = sm.tsa.ARIMA(df_train['Qty'], order=(p, 0, q))\n",
    "model_fit = model.fit()\n",
    "\n",
    "# Mendapatkan nilai AIC\n",
    "aic = model_fit.aic\n",
    "\n",
    "print(f\"Nilai AIC: {aic}\")"
   ]
  },
  {
   "cell_type": "code",
   "execution_count": 26,
   "metadata": {},
   "outputs": [
    {
     "name": "stdout",
     "output_type": "stream",
     "text": [
      "Nilai AIC: 2481.77330128506\n"
     ]
    }
   ],
   "source": [
    "import statsmodels.api as sm\n",
    "\n",
    "p  = 0\n",
    "q = 10\n",
    "model = sm.tsa.ARIMA(df_train['Qty'], order=(p, 0, q))\n",
    "model_fit = model.fit()\n",
    "\n",
    "# Mendapatkan nilai AIC\n",
    "aic = model_fit.aic\n",
    "\n",
    "print(f\"Nilai AIC: {aic}\")"
   ]
  },
  {
   "cell_type": "code",
   "execution_count": 28,
   "metadata": {},
   "outputs": [
    {
     "name": "stdout",
     "output_type": "stream",
     "text": [
      "Nilai AIC: 2482.8015579151206\n"
     ]
    }
   ],
   "source": [
    "import statsmodels.api as sm\n",
    "\n",
    "p  = 0\n",
    "q = 18\n",
    "model = sm.tsa.ARIMA(df_train['Qty'], order=(p, 0, q))\n",
    "model_fit = model.fit()\n",
    "\n",
    "# Mendapatkan nilai AIC\n",
    "aic = model_fit.aic\n",
    "\n",
    "print(f\"Nilai AIC: {aic}\")"
   ]
  },
  {
   "cell_type": "code",
   "execution_count": 29,
   "metadata": {},
   "outputs": [
    {
     "name": "stdout",
     "output_type": "stream",
     "text": [
      "Nilai AIC: 2489.739330031138\n"
     ]
    }
   ],
   "source": [
    "import statsmodels.api as sm\n",
    "\n",
    "p  = 0\n",
    "q = 27\n",
    "model = sm.tsa.ARIMA(df_train['Qty'], order=(p, 0, q))\n",
    "model_fit = model.fit()\n",
    "\n",
    "# Mendapatkan nilai AIC\n",
    "aic = model_fit.aic\n",
    "\n",
    "print(f\"Nilai AIC: {aic}\")"
   ]
  },
  {
   "cell_type": "code",
   "execution_count": 30,
   "metadata": {},
   "outputs": [
    {
     "name": "stdout",
     "output_type": "stream",
     "text": [
      "Nilai AIC: 2488.653634122163\n"
     ]
    }
   ],
   "source": [
    "import statsmodels.api as sm\n",
    "\n",
    "p  = 0\n",
    "q = 30\n",
    "model = sm.tsa.ARIMA(df_train['Qty'], order=(p, 0, q))\n",
    "model_fit = model.fit()\n",
    "\n",
    "# Mendapatkan nilai AIC\n",
    "aic = model_fit.aic\n",
    "\n",
    "print(f\"Nilai AIC: {aic}\")"
   ]
  },
  {
   "cell_type": "code",
   "execution_count": 31,
   "metadata": {},
   "outputs": [
    {
     "name": "stdout",
     "output_type": "stream",
     "text": [
      "Nilai AIC: 2492.2277677943794\n"
     ]
    }
   ],
   "source": [
    "import statsmodels.api as sm\n",
    "\n",
    "p  = 0\n",
    "q = 37\n",
    "model = sm.tsa.ARIMA(df_train['Qty'], order=(p, 0, q))\n",
    "model_fit = model.fit()\n",
    "\n",
    "# Mendapatkan nilai AIC\n",
    "aic = model_fit.aic\n",
    "\n",
    "print(f\"Nilai AIC: {aic}\")"
   ]
  },
  {
   "cell_type": "code",
   "execution_count": 25,
   "metadata": {},
   "outputs": [
    {
     "name": "stdout",
     "output_type": "stream",
     "text": [
      "Nilai AIC: 2482.796488639542\n"
     ]
    }
   ],
   "source": [
    "import statsmodels.api as sm\n",
    "\n",
    "p  = 4\n",
    "q = 4\n",
    "model = sm.tsa.ARIMA(df_train['Qty'], order=(p, 0, q))\n",
    "model_fit = model.fit()\n",
    "\n",
    "# Mendapatkan nilai AIC\n",
    "aic = model_fit.aic\n",
    "\n",
    "print(f\"Nilai AIC: {aic}\")"
   ]
  },
  {
   "cell_type": "code",
   "execution_count": 99,
   "metadata": {},
   "outputs": [
    {
     "name": "stdout",
     "output_type": "stream",
     "text": [
      "Nilai AIC: 2475.7383546776314\n"
     ]
    }
   ],
   "source": [
    "import statsmodels.api as sm\n",
    "\n",
    "p  = 4\n",
    "q = 8\n",
    "model = sm.tsa.ARIMA(df_train['Qty'], order=(p, 0, q))\n",
    "model_fit = model.fit()\n",
    "\n",
    "# Mendapatkan nilai AIC\n",
    "aic = model_fit.aic\n",
    "\n",
    "print(f\"Nilai AIC: {aic}\")"
   ]
  },
  {
   "cell_type": "code",
   "execution_count": 30,
   "metadata": {},
   "outputs": [
    {
     "name": "stdout",
     "output_type": "stream",
     "text": [
      "Nilai AIC: 2483.5852014910383\n"
     ]
    }
   ],
   "source": [
    "import statsmodels.api as sm\n",
    "\n",
    "p  = 4\n",
    "q = 10\n",
    "model = sm.tsa.ARIMA(df_train['Qty'], order=(p, 0, q))\n",
    "model_fit = model.fit()\n",
    "\n",
    "# Mendapatkan nilai AIC\n",
    "aic = model_fit.aic\n",
    "\n",
    "print(f\"Nilai AIC: {aic}\")"
   ]
  },
  {
   "cell_type": "code",
   "execution_count": 31,
   "metadata": {},
   "outputs": [
    {
     "name": "stdout",
     "output_type": "stream",
     "text": [
      "Nilai AIC: 2488.5245406688036\n"
     ]
    }
   ],
   "source": [
    "import statsmodels.api as sm\n",
    "\n",
    "p  = 4\n",
    "q = 18\n",
    "model = sm.tsa.ARIMA(df_train['Qty'], order=(p, 0, q))\n",
    "model_fit = model.fit()\n",
    "\n",
    "# Mendapatkan nilai AIC\n",
    "aic = model_fit.aic\n",
    "\n",
    "print(f\"Nilai AIC: {aic}\")"
   ]
  },
  {
   "cell_type": "code",
   "execution_count": 32,
   "metadata": {},
   "outputs": [
    {
     "name": "stdout",
     "output_type": "stream",
     "text": [
      "Nilai AIC: 2496.2005284973734\n"
     ]
    }
   ],
   "source": [
    "import statsmodels.api as sm\n",
    "\n",
    "p  = 4\n",
    "q = 27\n",
    "model = sm.tsa.ARIMA(df_train['Qty'], order=(p, 0, q))\n",
    "model_fit = model.fit()\n",
    "\n",
    "# Mendapatkan nilai AIC\n",
    "aic = model_fit.aic\n",
    "\n",
    "print(f\"Nilai AIC: {aic}\")"
   ]
  },
  {
   "cell_type": "code",
   "execution_count": 33,
   "metadata": {},
   "outputs": [
    {
     "name": "stdout",
     "output_type": "stream",
     "text": [
      "Nilai AIC: 2496.0388790106363\n"
     ]
    }
   ],
   "source": [
    "import statsmodels.api as sm\n",
    "\n",
    "p  = 4\n",
    "q = 30\n",
    "model = sm.tsa.ARIMA(df_train['Qty'], order=(p, 0, q))\n",
    "model_fit = model.fit()\n",
    "\n",
    "# Mendapatkan nilai AIC\n",
    "aic = model_fit.aic\n",
    "\n",
    "print(f\"Nilai AIC: {aic}\")"
   ]
  },
  {
   "cell_type": "code",
   "execution_count": 34,
   "metadata": {},
   "outputs": [
    {
     "name": "stdout",
     "output_type": "stream",
     "text": [
      "Nilai AIC: 2495.1569267388145\n"
     ]
    }
   ],
   "source": [
    "import statsmodels.api as sm\n",
    "\n",
    "p  = 4\n",
    "q = 37\n",
    "model = sm.tsa.ARIMA(df_train['Qty'], order=(p, 0, q))\n",
    "model_fit = model.fit()\n",
    "\n",
    "# Mendapatkan nilai AIC\n",
    "aic = model_fit.aic\n",
    "\n",
    "print(f\"Nilai AIC: {aic}\")"
   ]
  },
  {
   "cell_type": "code",
   "execution_count": 35,
   "metadata": {},
   "outputs": [
    {
     "name": "stdout",
     "output_type": "stream",
     "text": [
      "Nilai AIC: 2483.1559416540686\n"
     ]
    }
   ],
   "source": [
    "import statsmodels.api as sm\n",
    "\n",
    "p  = 8\n",
    "q = 4\n",
    "model = sm.tsa.ARIMA(df_train['Qty'], order=(p, 0, q))\n",
    "model_fit = model.fit()\n",
    "\n",
    "# Mendapatkan nilai AIC\n",
    "aic = model_fit.aic\n",
    "\n",
    "print(f\"Nilai AIC: {aic}\")"
   ]
  },
  {
   "cell_type": "code",
   "execution_count": 36,
   "metadata": {},
   "outputs": [
    {
     "name": "stdout",
     "output_type": "stream",
     "text": [
      "Nilai AIC: 2485.763724253005\n"
     ]
    }
   ],
   "source": [
    "import statsmodels.api as sm\n",
    "\n",
    "p  = 8\n",
    "q = 8\n",
    "model = sm.tsa.ARIMA(df_train['Qty'], order=(p, 0, q))\n",
    "model_fit = model.fit()\n",
    "\n",
    "# Mendapatkan nilai AIC\n",
    "aic = model_fit.aic\n",
    "\n",
    "print(f\"Nilai AIC: {aic}\")"
   ]
  },
  {
   "cell_type": "code",
   "execution_count": 37,
   "metadata": {},
   "outputs": [
    {
     "name": "stdout",
     "output_type": "stream",
     "text": [
      "Nilai AIC: 2480.906318672556\n"
     ]
    }
   ],
   "source": [
    "import statsmodels.api as sm\n",
    "\n",
    "p  = 8\n",
    "q = 10\n",
    "model = sm.tsa.ARIMA(df_train['Qty'], order=(p, 0, q))\n",
    "model_fit = model.fit()\n",
    "\n",
    "# Mendapatkan nilai AIC\n",
    "aic = model_fit.aic\n",
    "\n",
    "print(f\"Nilai AIC: {aic}\")"
   ]
  },
  {
   "cell_type": "code",
   "execution_count": 38,
   "metadata": {},
   "outputs": [
    {
     "name": "stdout",
     "output_type": "stream",
     "text": [
      "Nilai AIC: 2476.6573437789484\n"
     ]
    }
   ],
   "source": [
    "import statsmodels.api as sm\n",
    "\n",
    "p  = 8\n",
    "q = 18\n",
    "model = sm.tsa.ARIMA(df_train['Qty'], order=(p, 0, q))\n",
    "model_fit = model.fit()\n",
    "\n",
    "# Mendapatkan nilai AIC\n",
    "aic = model_fit.aic\n",
    "\n",
    "print(f\"Nilai AIC: {aic}\")"
   ]
  },
  {
   "cell_type": "code",
   "execution_count": 39,
   "metadata": {},
   "outputs": [
    {
     "name": "stdout",
     "output_type": "stream",
     "text": [
      "Nilai AIC: 2487.166912535531\n"
     ]
    }
   ],
   "source": [
    "import statsmodels.api as sm\n",
    "\n",
    "p  = 8\n",
    "q = 27\n",
    "model = sm.tsa.ARIMA(df_train['Qty'], order=(p, 0, q))\n",
    "model_fit = model.fit()\n",
    "\n",
    "# Mendapatkan nilai AIC\n",
    "aic = model_fit.aic\n",
    "\n",
    "print(f\"Nilai AIC: {aic}\")"
   ]
  },
  {
   "cell_type": "code",
   "execution_count": 40,
   "metadata": {},
   "outputs": [
    {
     "name": "stdout",
     "output_type": "stream",
     "text": [
      "Nilai AIC: 2495.948738493399\n"
     ]
    }
   ],
   "source": [
    "import statsmodels.api as sm\n",
    "\n",
    "p  = 8\n",
    "q = 30\n",
    "model = sm.tsa.ARIMA(df_train['Qty'], order=(p, 0, q))\n",
    "model_fit = model.fit()\n",
    "\n",
    "# Mendapatkan nilai AIC\n",
    "aic = model_fit.aic\n",
    "\n",
    "print(f\"Nilai AIC: {aic}\")"
   ]
  },
  {
   "cell_type": "code",
   "execution_count": 41,
   "metadata": {},
   "outputs": [
    {
     "name": "stdout",
     "output_type": "stream",
     "text": [
      "Nilai AIC: 2504.8401094134683\n"
     ]
    }
   ],
   "source": [
    "import statsmodels.api as sm\n",
    "\n",
    "p  = 8\n",
    "q = 37\n",
    "model = sm.tsa.ARIMA(df_train['Qty'], order=(p, 0, q))\n",
    "model_fit = model.fit()\n",
    "\n",
    "# Mendapatkan nilai AIC\n",
    "aic = model_fit.aic\n",
    "\n",
    "print(f\"Nilai AIC: {aic}\")"
   ]
  },
  {
   "cell_type": "code",
   "execution_count": 42,
   "metadata": {},
   "outputs": [
    {
     "name": "stdout",
     "output_type": "stream",
     "text": [
      "Nilai AIC: 2483.605604950394\n"
     ]
    }
   ],
   "source": [
    "import statsmodels.api as sm\n",
    "\n",
    "p  = 10\n",
    "q = 4\n",
    "model = sm.tsa.ARIMA(df_train['Qty'], order=(p, 0, q))\n",
    "model_fit = model.fit()\n",
    "\n",
    "# Mendapatkan nilai AIC\n",
    "aic = model_fit.aic\n",
    "\n",
    "print(f\"Nilai AIC: {aic}\")"
   ]
  },
  {
   "cell_type": "code",
   "execution_count": 43,
   "metadata": {},
   "outputs": [
    {
     "name": "stdout",
     "output_type": "stream",
     "text": [
      "Nilai AIC: 2482.860010714745\n"
     ]
    }
   ],
   "source": [
    "import statsmodels.api as sm\n",
    "\n",
    "p  = 10\n",
    "q = 8\n",
    "model = sm.tsa.ARIMA(df_train['Qty'], order=(p, 0, q))\n",
    "model_fit = model.fit()\n",
    "\n",
    "# Mendapatkan nilai AIC\n",
    "aic = model_fit.aic\n",
    "\n",
    "print(f\"Nilai AIC: {aic}\")"
   ]
  },
  {
   "cell_type": "code",
   "execution_count": 44,
   "metadata": {},
   "outputs": [
    {
     "name": "stdout",
     "output_type": "stream",
     "text": [
      "Nilai AIC: 2479.6004566436577\n"
     ]
    }
   ],
   "source": [
    "import statsmodels.api as sm\n",
    "\n",
    "p  = 10\n",
    "q = 10\n",
    "model = sm.tsa.ARIMA(df_train['Qty'], order=(p, 0, q))\n",
    "model_fit = model.fit()\n",
    "\n",
    "# Mendapatkan nilai AIC\n",
    "aic = model_fit.aic\n",
    "\n",
    "print(f\"Nilai AIC: {aic}\")"
   ]
  },
  {
   "cell_type": "code",
   "execution_count": 45,
   "metadata": {},
   "outputs": [
    {
     "name": "stdout",
     "output_type": "stream",
     "text": [
      "Nilai AIC: 2479.5688590054365\n"
     ]
    }
   ],
   "source": [
    "import statsmodels.api as sm\n",
    "\n",
    "p  = 10\n",
    "q = 18\n",
    "model = sm.tsa.ARIMA(df_train['Qty'], order=(p, 0, q))\n",
    "model_fit = model.fit()\n",
    "\n",
    "# Mendapatkan nilai AIC\n",
    "aic = model_fit.aic\n",
    "\n",
    "print(f\"Nilai AIC: {aic}\")"
   ]
  },
  {
   "cell_type": "code",
   "execution_count": 46,
   "metadata": {},
   "outputs": [
    {
     "name": "stdout",
     "output_type": "stream",
     "text": [
      "Nilai AIC: 2494.070501249679\n"
     ]
    }
   ],
   "source": [
    "import statsmodels.api as sm\n",
    "\n",
    "p  = 10\n",
    "q = 27\n",
    "model = sm.tsa.ARIMA(df_train['Qty'], order=(p, 0, q))\n",
    "model_fit = model.fit()\n",
    "\n",
    "# Mendapatkan nilai AIC\n",
    "aic = model_fit.aic\n",
    "\n",
    "print(f\"Nilai AIC: {aic}\")"
   ]
  },
  {
   "cell_type": "code",
   "execution_count": 47,
   "metadata": {},
   "outputs": [
    {
     "name": "stdout",
     "output_type": "stream",
     "text": [
      "Nilai AIC: 2499.848775261362\n"
     ]
    }
   ],
   "source": [
    "import statsmodels.api as sm\n",
    "\n",
    "p  = 10\n",
    "q = 30\n",
    "model = sm.tsa.ARIMA(df_train['Qty'], order=(p, 0, q))\n",
    "model_fit = model.fit()\n",
    "\n",
    "# Mendapatkan nilai AIC\n",
    "aic = model_fit.aic\n",
    "\n",
    "print(f\"Nilai AIC: {aic}\")"
   ]
  },
  {
   "cell_type": "code",
   "execution_count": 48,
   "metadata": {},
   "outputs": [
    {
     "name": "stdout",
     "output_type": "stream",
     "text": [
      "Nilai AIC: 2505.703220688861\n"
     ]
    }
   ],
   "source": [
    "import statsmodels.api as sm\n",
    "\n",
    "p  = 10\n",
    "q = 37\n",
    "model = sm.tsa.ARIMA(df_train['Qty'], order=(p, 0, q))\n",
    "model_fit = model.fit()\n",
    "\n",
    "# Mendapatkan nilai AIC\n",
    "aic = model_fit.aic\n",
    "\n",
    "print(f\"Nilai AIC: {aic}\")"
   ]
  },
  {
   "cell_type": "code",
   "execution_count": 49,
   "metadata": {},
   "outputs": [
    {
     "name": "stdout",
     "output_type": "stream",
     "text": [
      "Nilai AIC: 2491.280226808118\n"
     ]
    }
   ],
   "source": [
    "import statsmodels.api as sm\n",
    "\n",
    "p  = 18\n",
    "q = 4\n",
    "model = sm.tsa.ARIMA(df_train['Qty'], order=(p, 0, q))\n",
    "model_fit = model.fit()\n",
    "\n",
    "# Mendapatkan nilai AIC\n",
    "aic = model_fit.aic\n",
    "\n",
    "print(f\"Nilai AIC: {aic}\")"
   ]
  },
  {
   "cell_type": "code",
   "execution_count": 50,
   "metadata": {},
   "outputs": [
    {
     "name": "stdout",
     "output_type": "stream",
     "text": [
      "Nilai AIC: 2484.100430545894\n"
     ]
    }
   ],
   "source": [
    "import statsmodels.api as sm\n",
    "\n",
    "p  = 18\n",
    "q = 8\n",
    "model = sm.tsa.ARIMA(df_train['Qty'], order=(p, 0, q))\n",
    "model_fit = model.fit()\n",
    "\n",
    "# Mendapatkan nilai AIC\n",
    "aic = model_fit.aic\n",
    "\n",
    "print(f\"Nilai AIC: {aic}\")"
   ]
  },
  {
   "cell_type": "code",
   "execution_count": 51,
   "metadata": {},
   "outputs": [
    {
     "name": "stdout",
     "output_type": "stream",
     "text": [
      "Nilai AIC: 2489.209448036468\n"
     ]
    }
   ],
   "source": [
    "import statsmodels.api as sm\n",
    "\n",
    "p  = 18\n",
    "q = 10\n",
    "model = sm.tsa.ARIMA(df_train['Qty'], order=(p, 0, q))\n",
    "model_fit = model.fit()\n",
    "\n",
    "# Mendapatkan nilai AIC\n",
    "aic = model_fit.aic\n",
    "\n",
    "print(f\"Nilai AIC: {aic}\")"
   ]
  },
  {
   "cell_type": "code",
   "execution_count": 52,
   "metadata": {},
   "outputs": [
    {
     "name": "stdout",
     "output_type": "stream",
     "text": [
      "Nilai AIC: 2495.3238846815166\n"
     ]
    }
   ],
   "source": [
    "import statsmodels.api as sm\n",
    "\n",
    "p  = 18\n",
    "q = 18\n",
    "model = sm.tsa.ARIMA(df_train['Qty'], order=(p, 0, q))\n",
    "model_fit = model.fit()\n",
    "\n",
    "# Mendapatkan nilai AIC\n",
    "aic = model_fit.aic\n",
    "\n",
    "print(f\"Nilai AIC: {aic}\")"
   ]
  },
  {
   "cell_type": "code",
   "execution_count": 53,
   "metadata": {},
   "outputs": [
    {
     "name": "stdout",
     "output_type": "stream",
     "text": [
      "Nilai AIC: 2498.2860406922555\n"
     ]
    }
   ],
   "source": [
    "import statsmodels.api as sm\n",
    "\n",
    "p  = 18\n",
    "q = 27\n",
    "model = sm.tsa.ARIMA(df_train['Qty'], order=(p, 0, q))\n",
    "model_fit = model.fit()\n",
    "\n",
    "# Mendapatkan nilai AIC\n",
    "aic = model_fit.aic\n",
    "\n",
    "print(f\"Nilai AIC: {aic}\")"
   ]
  },
  {
   "cell_type": "code",
   "execution_count": 54,
   "metadata": {},
   "outputs": [
    {
     "name": "stdout",
     "output_type": "stream",
     "text": [
      "Nilai AIC: 2503.6410503725565\n"
     ]
    }
   ],
   "source": [
    "import statsmodels.api as sm\n",
    "\n",
    "p  = 18\n",
    "q = 30\n",
    "model = sm.tsa.ARIMA(df_train['Qty'], order=(p, 0, q))\n",
    "model_fit = model.fit()\n",
    "\n",
    "# Mendapatkan nilai AIC\n",
    "aic = model_fit.aic\n",
    "\n",
    "print(f\"Nilai AIC: {aic}\")"
   ]
  },
  {
   "cell_type": "code",
   "execution_count": 56,
   "metadata": {},
   "outputs": [
    {
     "name": "stdout",
     "output_type": "stream",
     "text": [
      "Nilai AIC: 2512.928571755944\n"
     ]
    }
   ],
   "source": [
    "import statsmodels.api as sm\n",
    "\n",
    "p  = 18\n",
    "q = 37\n",
    "model = sm.tsa.ARIMA(df_train['Qty'], order=(p, 0, q))\n",
    "model_fit = model.fit()\n",
    "\n",
    "# Mendapatkan nilai AIC\n",
    "aic = model_fit.aic\n",
    "\n",
    "print(f\"Nilai AIC: {aic}\")"
   ]
  },
  {
   "cell_type": "code",
   "execution_count": 57,
   "metadata": {},
   "outputs": [
    {
     "name": "stdout",
     "output_type": "stream",
     "text": [
      "Nilai AIC: 2492.8594126813387\n"
     ]
    }
   ],
   "source": [
    "import statsmodels.api as sm\n",
    "\n",
    "p  = 27\n",
    "q = 4\n",
    "model = sm.tsa.ARIMA(df_train['Qty'], order=(p, 0, q))\n",
    "model_fit = model.fit()\n",
    "\n",
    "# Mendapatkan nilai AIC\n",
    "aic = model_fit.aic\n",
    "\n",
    "print(f\"Nilai AIC: {aic}\")"
   ]
  },
  {
   "cell_type": "code",
   "execution_count": 58,
   "metadata": {},
   "outputs": [
    {
     "name": "stdout",
     "output_type": "stream",
     "text": [
      "Nilai AIC: 2502.7005664423978\n"
     ]
    }
   ],
   "source": [
    "import statsmodels.api as sm\n",
    "\n",
    "p  = 27\n",
    "q = 8\n",
    "model = sm.tsa.ARIMA(df_train['Qty'], order=(p, 0, q))\n",
    "model_fit = model.fit()\n",
    "\n",
    "# Mendapatkan nilai AIC\n",
    "aic = model_fit.aic\n",
    "\n",
    "print(f\"Nilai AIC: {aic}\")"
   ]
  },
  {
   "cell_type": "code",
   "execution_count": 60,
   "metadata": {},
   "outputs": [
    {
     "name": "stdout",
     "output_type": "stream",
     "text": [
      "Nilai AIC: 2509.8527203166855\n"
     ]
    }
   ],
   "source": [
    "import statsmodels.api as sm\n",
    "\n",
    "p  = 27\n",
    "q = 17\n",
    "model = sm.tsa.ARIMA(df_train['Qty'], order=(p, 0, q))\n",
    "model_fit = model.fit()\n",
    "\n",
    "# Mendapatkan nilai AIC\n",
    "aic = model_fit.aic\n",
    "\n",
    "print(f\"Nilai AIC: {aic}\")"
   ]
  },
  {
   "cell_type": "code",
   "execution_count": 62,
   "metadata": {},
   "outputs": [
    {
     "name": "stdout",
     "output_type": "stream",
     "text": [
      "Nilai AIC: 2510.856812451494\n"
     ]
    }
   ],
   "source": [
    "import statsmodels.api as sm\n",
    "\n",
    "p  = 27\n",
    "q = 27\n",
    "model = sm.tsa.ARIMA(df_train['Qty'], order=(p, 0, q))\n",
    "model_fit = model.fit()\n",
    "\n",
    "# Mendapatkan nilai AIC\n",
    "aic = model_fit.aic\n",
    "\n",
    "print(f\"Nilai AIC: {aic}\")"
   ]
  },
  {
   "cell_type": "code",
   "execution_count": 61,
   "metadata": {},
   "outputs": [
    {
     "name": "stdout",
     "output_type": "stream",
     "text": [
      "Nilai AIC: 2515.541104781036\n"
     ]
    }
   ],
   "source": [
    "import statsmodels.api as sm\n",
    "\n",
    "p  = 27\n",
    "q = 30\n",
    "model = sm.tsa.ARIMA(df_train['Qty'], order=(p, 0, q))\n",
    "model_fit = model.fit()\n",
    "\n",
    "# Mendapatkan nilai AIC\n",
    "aic = model_fit.aic\n",
    "\n",
    "print(f\"Nilai AIC: {aic}\")"
   ]
  },
  {
   "cell_type": "code",
   "execution_count": 63,
   "metadata": {},
   "outputs": [
    {
     "name": "stdout",
     "output_type": "stream",
     "text": [
      "Nilai AIC: 2521.9802842533754\n"
     ]
    }
   ],
   "source": [
    "import statsmodels.api as sm\n",
    "\n",
    "p  = 27\n",
    "q = 37\n",
    "model = sm.tsa.ARIMA(df_train['Qty'], order=(p, 0, q))\n",
    "model_fit = model.fit()\n",
    "\n",
    "# Mendapatkan nilai AIC\n",
    "aic = model_fit.aic\n",
    "\n",
    "print(f\"Nilai AIC: {aic}\")"
   ]
  },
  {
   "cell_type": "code",
   "execution_count": 64,
   "metadata": {},
   "outputs": [
    {
     "name": "stdout",
     "output_type": "stream",
     "text": [
      "Nilai AIC: 2498.955087718574\n"
     ]
    }
   ],
   "source": [
    "import statsmodels.api as sm\n",
    "\n",
    "p  = 30\n",
    "q = 4\n",
    "model = sm.tsa.ARIMA(df_train['Qty'], order=(p, 0, q))\n",
    "model_fit = model.fit()\n",
    "\n",
    "# Mendapatkan nilai AIC\n",
    "aic = model_fit.aic\n",
    "\n",
    "print(f\"Nilai AIC: {aic}\")"
   ]
  },
  {
   "cell_type": "code",
   "execution_count": 65,
   "metadata": {},
   "outputs": [
    {
     "name": "stdout",
     "output_type": "stream",
     "text": [
      "Nilai AIC: 2499.9259030872754\n"
     ]
    }
   ],
   "source": [
    "import statsmodels.api as sm\n",
    "\n",
    "p  = 30\n",
    "q = 8\n",
    "model = sm.tsa.ARIMA(df_train['Qty'], order=(p, 0, q))\n",
    "model_fit = model.fit()\n",
    "\n",
    "# Mendapatkan nilai AIC\n",
    "aic = model_fit.aic\n",
    "\n",
    "print(f\"Nilai AIC: {aic}\")"
   ]
  },
  {
   "cell_type": "code",
   "execution_count": 66,
   "metadata": {},
   "outputs": [
    {
     "name": "stdout",
     "output_type": "stream",
     "text": [
      "Nilai AIC: 2501.2222418323677\n"
     ]
    }
   ],
   "source": [
    "import statsmodels.api as sm\n",
    "\n",
    "p  = 30\n",
    "q = 10\n",
    "model = sm.tsa.ARIMA(df_train['Qty'], order=(p, 0, q))\n",
    "model_fit = model.fit()\n",
    "\n",
    "# Mendapatkan nilai AIC\n",
    "aic = model_fit.aic\n",
    "\n",
    "print(f\"Nilai AIC: {aic}\")"
   ]
  },
  {
   "cell_type": "code",
   "execution_count": 67,
   "metadata": {},
   "outputs": [
    {
     "name": "stdout",
     "output_type": "stream",
     "text": [
      "Nilai AIC: 2512.59849310565\n"
     ]
    }
   ],
   "source": [
    "import statsmodels.api as sm\n",
    "\n",
    "p  = 30\n",
    "q = 18\n",
    "model = sm.tsa.ARIMA(df_train['Qty'], order=(p, 0, q))\n",
    "model_fit = model.fit()\n",
    "\n",
    "# Mendapatkan nilai AIC\n",
    "aic = model_fit.aic\n",
    "\n",
    "print(f\"Nilai AIC: {aic}\")"
   ]
  },
  {
   "cell_type": "code",
   "execution_count": 68,
   "metadata": {},
   "outputs": [
    {
     "name": "stdout",
     "output_type": "stream",
     "text": [
      "Nilai AIC: 2515.4909777473285\n"
     ]
    }
   ],
   "source": [
    "\n",
    "import statsmodels.api as sm\n",
    "\n",
    "p  = 30\n",
    "q = 27\n",
    "model = sm.tsa.ARIMA(df_train['Qty'], order=(p, 0, q))\n",
    "model_fit = model.fit()\n",
    "\n",
    "# Mendapatkan nilai AIC\n",
    "aic = model_fit.aic\n",
    "\n",
    "print(f\"Nilai AIC: {aic}\")"
   ]
  },
  {
   "cell_type": "code",
   "execution_count": 69,
   "metadata": {},
   "outputs": [
    {
     "name": "stdout",
     "output_type": "stream",
     "text": [
      "Nilai AIC: 2516.4806168079285\n"
     ]
    }
   ],
   "source": [
    "import statsmodels.api as sm\n",
    "\n",
    "p  = 30\n",
    "q = 30\n",
    "model = sm.tsa.ARIMA(df_train['Qty'], order=(p, 0, q))\n",
    "model_fit = model.fit()\n",
    "\n",
    "# Mendapatkan nilai AIC\n",
    "aic = model_fit.aic\n",
    "\n",
    "print(f\"Nilai AIC: {aic}\")"
   ]
  },
  {
   "cell_type": "code",
   "execution_count": 70,
   "metadata": {},
   "outputs": [
    {
     "name": "stdout",
     "output_type": "stream",
     "text": [
      "Nilai AIC: 2529.083586649473\n"
     ]
    }
   ],
   "source": [
    "import statsmodels.api as sm\n",
    "\n",
    "p  = 30\n",
    "q = 37\n",
    "model = sm.tsa.ARIMA(df_train['Qty'], order=(p, 0, q))\n",
    "model_fit = model.fit()\n",
    "\n",
    "# Mendapatkan nilai AIC\n",
    "aic = model_fit.aic\n",
    "\n",
    "print(f\"Nilai AIC: {aic}\")"
   ]
  },
  {
   "cell_type": "code",
   "execution_count": 71,
   "metadata": {},
   "outputs": [
    {
     "name": "stdout",
     "output_type": "stream",
     "text": [
      "Nilai AIC: 2504.483044133278\n"
     ]
    }
   ],
   "source": [
    "import statsmodels.api as sm\n",
    "\n",
    "p  = 35\n",
    "q = 4\n",
    "model = sm.tsa.ARIMA(df_train['Qty'], order=(p, 0, q))\n",
    "model_fit = model.fit()\n",
    "\n",
    "# Mendapatkan nilai AIC\n",
    "aic = model_fit.aic\n",
    "\n",
    "print(f\"Nilai AIC: {aic}\")"
   ]
  },
  {
   "cell_type": "code",
   "execution_count": 72,
   "metadata": {},
   "outputs": [
    {
     "name": "stdout",
     "output_type": "stream",
     "text": [
      "Nilai AIC: 2503.99837671121\n"
     ]
    }
   ],
   "source": [
    "import statsmodels.api as sm\n",
    "\n",
    "p  = 35\n",
    "q = 8\n",
    "model = sm.tsa.ARIMA(df_train['Qty'], order=(p, 0, q))\n",
    "model_fit = model.fit()\n",
    "\n",
    "# Mendapatkan nilai AIC\n",
    "aic = model_fit.aic\n",
    "\n",
    "print(f\"Nilai AIC: {aic}\")"
   ]
  },
  {
   "cell_type": "code",
   "execution_count": 73,
   "metadata": {},
   "outputs": [
    {
     "name": "stdout",
     "output_type": "stream",
     "text": [
      "Nilai AIC: 2507.5706408951996\n"
     ]
    }
   ],
   "source": [
    "import statsmodels.api as sm\n",
    "\n",
    "p  = 35\n",
    "q = 10\n",
    "model = sm.tsa.ARIMA(df_train['Qty'], order=(p, 0, q))\n",
    "model_fit = model.fit()\n",
    "\n",
    "# Mendapatkan nilai AIC\n",
    "aic = model_fit.aic\n",
    "\n",
    "print(f\"Nilai AIC: {aic}\")"
   ]
  },
  {
   "cell_type": "code",
   "execution_count": 74,
   "metadata": {},
   "outputs": [
    {
     "name": "stdout",
     "output_type": "stream",
     "text": [
      "Nilai AIC: 2521.2756645715635\n"
     ]
    }
   ],
   "source": [
    "import statsmodels.api as sm\n",
    "\n",
    "p  = 35\n",
    "q = 18\n",
    "model = sm.tsa.ARIMA(df_train['Qty'], order=(p, 0, q))\n",
    "model_fit = model.fit()\n",
    "\n",
    "# Mendapatkan nilai AIC\n",
    "aic = model_fit.aic\n",
    "\n",
    "print(f\"Nilai AIC: {aic}\")"
   ]
  },
  {
   "cell_type": "code",
   "execution_count": 75,
   "metadata": {},
   "outputs": [
    {
     "name": "stdout",
     "output_type": "stream",
     "text": [
      "Nilai AIC: 2521.5860777905227\n"
     ]
    }
   ],
   "source": [
    "import statsmodels.api as sm\n",
    "\n",
    "p  = 35\n",
    "q = 27\n",
    "model = sm.tsa.ARIMA(df_train['Qty'], order=(p, 0, q))\n",
    "model_fit = model.fit()\n",
    "\n",
    "# Mendapatkan nilai AIC\n",
    "aic = model_fit.aic\n",
    "\n",
    "print(f\"Nilai AIC: {aic}\")"
   ]
  },
  {
   "cell_type": "code",
   "execution_count": 76,
   "metadata": {},
   "outputs": [
    {
     "name": "stdout",
     "output_type": "stream",
     "text": [
      "Nilai AIC: 2523.596930135999\n"
     ]
    }
   ],
   "source": [
    "import statsmodels.api as sm\n",
    "\n",
    "p  = 35\n",
    "q = 30\n",
    "model = sm.tsa.ARIMA(df_train['Qty'], order=(p, 0, q))\n",
    "model_fit = model.fit()\n",
    "\n",
    "# Mendapatkan nilai AIC\n",
    "aic = model_fit.aic\n",
    "\n",
    "print(f\"Nilai AIC: {aic}\")"
   ]
  },
  {
   "cell_type": "code",
   "execution_count": 77,
   "metadata": {},
   "outputs": [
    {
     "name": "stdout",
     "output_type": "stream",
     "text": [
      "Nilai AIC: 2537.4662905659206\n"
     ]
    }
   ],
   "source": [
    "import statsmodels.api as sm\n",
    "\n",
    "p  = 35\n",
    "q = 37\n",
    "model = sm.tsa.ARIMA(df_train['Qty'], order=(p, 0, q))\n",
    "model_fit = model.fit()\n",
    "\n",
    "# Mendapatkan nilai AIC\n",
    "aic = model_fit.aic\n",
    "\n",
    "print(f\"Nilai AIC: {aic}\")"
   ]
  },
  {
   "cell_type": "code",
   "execution_count": 78,
   "metadata": {},
   "outputs": [
    {
     "name": "stdout",
     "output_type": "stream",
     "text": [
      "Nilai AIC: 2508.426157637815\n"
     ]
    }
   ],
   "source": [
    "import statsmodels.api as sm\n",
    "\n",
    "p  = 37\n",
    "q = 4\n",
    "model = sm.tsa.ARIMA(df_train['Qty'], order=(p, 0, q))\n",
    "model_fit = model.fit()\n",
    "\n",
    "# Mendapatkan nilai AIC\n",
    "aic = model_fit.aic\n",
    "\n",
    "print(f\"Nilai AIC: {aic}\")"
   ]
  },
  {
   "cell_type": "code",
   "execution_count": 79,
   "metadata": {},
   "outputs": [
    {
     "name": "stdout",
     "output_type": "stream",
     "text": [
      "Nilai AIC: 2506.7090955960743\n"
     ]
    }
   ],
   "source": [
    "import statsmodels.api as sm\n",
    "\n",
    "p  = 37\n",
    "q = 8\n",
    "model = sm.tsa.ARIMA(df_train['Qty'], order=(p, 0, q))\n",
    "model_fit = model.fit()\n",
    "\n",
    "# Mendapatkan nilai AIC\n",
    "aic = model_fit.aic\n",
    "\n",
    "print(f\"Nilai AIC: {aic}\")"
   ]
  },
  {
   "cell_type": "code",
   "execution_count": 80,
   "metadata": {},
   "outputs": [
    {
     "name": "stdout",
     "output_type": "stream",
     "text": [
      "Nilai AIC: 2508.2305902168164\n"
     ]
    }
   ],
   "source": [
    "import statsmodels.api as sm\n",
    "\n",
    "p  = 37\n",
    "q = 10\n",
    "model = sm.tsa.ARIMA(df_train['Qty'], order=(p, 0, q))\n",
    "model_fit = model.fit()\n",
    "\n",
    "# Mendapatkan nilai AIC\n",
    "aic = model_fit.aic\n",
    "\n",
    "print(f\"Nilai AIC: {aic}\")"
   ]
  },
  {
   "cell_type": "code",
   "execution_count": 81,
   "metadata": {},
   "outputs": [
    {
     "name": "stdout",
     "output_type": "stream",
     "text": [
      "Nilai AIC: 2515.406360150727\n"
     ]
    }
   ],
   "source": [
    "import statsmodels.api as sm\n",
    "\n",
    "p  = 37\n",
    "q = 18\n",
    "model = sm.tsa.ARIMA(df_train['Qty'], order=(p, 0, q))\n",
    "model_fit = model.fit()\n",
    "\n",
    "# Mendapatkan nilai AIC\n",
    "aic = model_fit.aic\n",
    "\n",
    "print(f\"Nilai AIC: {aic}\")"
   ]
  },
  {
   "cell_type": "code",
   "execution_count": 82,
   "metadata": {},
   "outputs": [
    {
     "name": "stdout",
     "output_type": "stream",
     "text": [
      "Nilai AIC: 2521.5246436161788\n"
     ]
    }
   ],
   "source": [
    "import statsmodels.api as sm\n",
    "\n",
    "p  = 37\n",
    "q = 27\n",
    "model = sm.tsa.ARIMA(df_train['Qty'], order=(p, 0, q))\n",
    "model_fit = model.fit()\n",
    "\n",
    "# Mendapatkan nilai AIC\n",
    "aic = model_fit.aic\n",
    "\n",
    "print(f\"Nilai AIC: {aic}\")"
   ]
  },
  {
   "cell_type": "code",
   "execution_count": 83,
   "metadata": {},
   "outputs": [
    {
     "name": "stdout",
     "output_type": "stream",
     "text": [
      "Nilai AIC: 2528.9550083663116\n"
     ]
    }
   ],
   "source": [
    "import statsmodels.api as sm\n",
    "\n",
    "p  = 37\n",
    "q = 30\n",
    "model = sm.tsa.ARIMA(df_train['Qty'], order=(p, 0, q))\n",
    "model_fit = model.fit()\n",
    "\n",
    "# Mendapatkan nilai AIC\n",
    "aic = model_fit.aic\n",
    "\n",
    "print(f\"Nilai AIC: {aic}\")"
   ]
  },
  {
   "cell_type": "code",
   "execution_count": 84,
   "metadata": {},
   "outputs": [
    {
     "name": "stdout",
     "output_type": "stream",
     "text": [
      "Nilai AIC: 2539.0873980534916\n"
     ]
    }
   ],
   "source": [
    "import statsmodels.api as sm\n",
    "\n",
    "p  = 37\n",
    "q = 37\n",
    "model = sm.tsa.ARIMA(df_train['Qty'], order=(p, 0, q))\n",
    "model_fit = model.fit()\n",
    "\n",
    "# Mendapatkan nilai AIC\n",
    "aic = model_fit.aic\n",
    "\n",
    "print(f\"Nilai AIC: {aic}\")"
   ]
  },
  {
   "cell_type": "code",
   "execution_count": 85,
   "metadata": {},
   "outputs": [
    {
     "name": "stdout",
     "output_type": "stream",
     "text": [
      "Nilai AIC: 2513.682336451012\n"
     ]
    }
   ],
   "source": [
    "import statsmodels.api as sm\n",
    "\n",
    "p  = 44\n",
    "q = 4\n",
    "model = sm.tsa.ARIMA(df_train['Qty'], order=(p, 0, q))\n",
    "model_fit = model.fit()\n",
    "\n",
    "# Mendapatkan nilai AIC\n",
    "aic = model_fit.aic\n",
    "\n",
    "print(f\"Nilai AIC: {aic}\")"
   ]
  },
  {
   "cell_type": "code",
   "execution_count": 86,
   "metadata": {},
   "outputs": [
    {
     "name": "stdout",
     "output_type": "stream",
     "text": [
      "Nilai AIC: 2514.3151344353746\n"
     ]
    }
   ],
   "source": [
    "import statsmodels.api as sm\n",
    "\n",
    "p  = 44\n",
    "q = 8\n",
    "model = sm.tsa.ARIMA(df_train['Qty'], order=(p, 0, q))\n",
    "model_fit = model.fit()\n",
    "\n",
    "# Mendapatkan nilai AIC\n",
    "aic = model_fit.aic\n",
    "\n",
    "print(f\"Nilai AIC: {aic}\")"
   ]
  },
  {
   "cell_type": "code",
   "execution_count": 87,
   "metadata": {},
   "outputs": [
    {
     "name": "stdout",
     "output_type": "stream",
     "text": [
      "Nilai AIC: 2520.9788946622884\n"
     ]
    }
   ],
   "source": [
    "import statsmodels.api as sm\n",
    "\n",
    "p  = 44\n",
    "q = 10\n",
    "model = sm.tsa.ARIMA(df_train['Qty'], order=(p, 0, q))\n",
    "model_fit = model.fit()\n",
    "\n",
    "# Mendapatkan nilai AIC\n",
    "aic = model_fit.aic\n",
    "\n",
    "print(f\"Nilai AIC: {aic}\")"
   ]
  },
  {
   "cell_type": "code",
   "execution_count": 88,
   "metadata": {},
   "outputs": [
    {
     "name": "stdout",
     "output_type": "stream",
     "text": [
      "Nilai AIC: 2519.6682855445547\n"
     ]
    }
   ],
   "source": [
    "import statsmodels.api as sm\n",
    "\n",
    "p  = 44\n",
    "q = 18\n",
    "model = sm.tsa.ARIMA(df_train['Qty'], order=(p, 0, q))\n",
    "model_fit = model.fit()\n",
    "\n",
    "# Mendapatkan nilai AIC\n",
    "aic = model_fit.aic\n",
    "\n",
    "print(f\"Nilai AIC: {aic}\")"
   ]
  },
  {
   "cell_type": "code",
   "execution_count": 89,
   "metadata": {},
   "outputs": [
    {
     "name": "stdout",
     "output_type": "stream",
     "text": [
      "Nilai AIC: 2531.7030969388297\n"
     ]
    }
   ],
   "source": [
    "import statsmodels.api as sm\n",
    "\n",
    "p  = 44\n",
    "q = 27\n",
    "model = sm.tsa.ARIMA(df_train['Qty'], order=(p, 0, q))\n",
    "model_fit = model.fit()\n",
    "\n",
    "# Mendapatkan nilai AIC\n",
    "aic = model_fit.aic\n",
    "\n",
    "print(f\"Nilai AIC: {aic}\")"
   ]
  },
  {
   "cell_type": "code",
   "execution_count": 90,
   "metadata": {},
   "outputs": [
    {
     "name": "stdout",
     "output_type": "stream",
     "text": [
      "Nilai AIC: 2535.048961423903\n"
     ]
    }
   ],
   "source": [
    "import statsmodels.api as sm\n",
    "\n",
    "p  = 44\n",
    "q = 30\n",
    "model = sm.tsa.ARIMA(df_train['Qty'], order=(p, 0, q))\n",
    "model_fit = model.fit()\n",
    "\n",
    "# Mendapatkan nilai AIC\n",
    "aic = model_fit.aic\n",
    "\n",
    "print(f\"Nilai AIC: {aic}\")"
   ]
  },
  {
   "cell_type": "code",
   "execution_count": 91,
   "metadata": {},
   "outputs": [
    {
     "name": "stdout",
     "output_type": "stream",
     "text": [
      "Nilai AIC: 2544.2975802012684\n"
     ]
    }
   ],
   "source": [
    "import statsmodels.api as sm\n",
    "\n",
    "p  = 44\n",
    "q = 37\n",
    "model = sm.tsa.ARIMA(df_train['Qty'], order=(p, 0, q))\n",
    "model_fit = model.fit()\n",
    "\n",
    "# Mendapatkan nilai AIC\n",
    "aic = model_fit.aic\n",
    "\n",
    "print(f\"Nilai AIC: {aic}\")"
   ]
  },
  {
   "cell_type": "code",
   "execution_count": 92,
   "metadata": {},
   "outputs": [
    {
     "name": "stdout",
     "output_type": "stream",
     "text": [
      "Nilai AIC: 2516.3001839399712\n"
     ]
    }
   ],
   "source": [
    "import statsmodels.api as sm\n",
    "\n",
    "p  = 48\n",
    "q = 4\n",
    "model = sm.tsa.ARIMA(df_train['Qty'], order=(p, 0, q))\n",
    "model_fit = model.fit()\n",
    "\n",
    "# Mendapatkan nilai AIC\n",
    "aic = model_fit.aic\n",
    "\n",
    "print(f\"Nilai AIC: {aic}\")"
   ]
  },
  {
   "cell_type": "code",
   "execution_count": 93,
   "metadata": {},
   "outputs": [
    {
     "name": "stdout",
     "output_type": "stream",
     "text": [
      "Nilai AIC: 2518.7894734706197\n"
     ]
    }
   ],
   "source": [
    "import statsmodels.api as sm\n",
    "\n",
    "p  = 48\n",
    "q = 8\n",
    "model = sm.tsa.ARIMA(df_train['Qty'], order=(p, 0, q))\n",
    "model_fit = model.fit()\n",
    "\n",
    "# Mendapatkan nilai AIC\n",
    "aic = model_fit.aic\n",
    "\n",
    "print(f\"Nilai AIC: {aic}\")"
   ]
  },
  {
   "cell_type": "code",
   "execution_count": 94,
   "metadata": {},
   "outputs": [
    {
     "name": "stdout",
     "output_type": "stream",
     "text": [
      "Nilai AIC: 2521.838977690656\n"
     ]
    }
   ],
   "source": [
    "import statsmodels.api as sm\n",
    "\n",
    "p  = 48\n",
    "q = 10\n",
    "model = sm.tsa.ARIMA(df_train['Qty'], order=(p, 0, q))\n",
    "model_fit = model.fit()\n",
    "\n",
    "# Mendapatkan nilai AIC\n",
    "aic = model_fit.aic\n",
    "\n",
    "print(f\"Nilai AIC: {aic}\")"
   ]
  },
  {
   "cell_type": "code",
   "execution_count": 95,
   "metadata": {},
   "outputs": [
    {
     "name": "stdout",
     "output_type": "stream",
     "text": [
      "Nilai AIC: 2528.7863566880474\n"
     ]
    }
   ],
   "source": [
    "import statsmodels.api as sm\n",
    "\n",
    "p  = 48\n",
    "q = 18\n",
    "model = sm.tsa.ARIMA(df_train['Qty'], order=(p, 0, q))\n",
    "model_fit = model.fit()\n",
    "\n",
    "# Mendapatkan nilai AIC\n",
    "aic = model_fit.aic\n",
    "\n",
    "print(f\"Nilai AIC: {aic}\")"
   ]
  },
  {
   "cell_type": "code",
   "execution_count": 96,
   "metadata": {},
   "outputs": [
    {
     "name": "stdout",
     "output_type": "stream",
     "text": [
      "Nilai AIC: 2537.4476070804403\n"
     ]
    }
   ],
   "source": [
    "import statsmodels.api as sm\n",
    "\n",
    "p  = 48\n",
    "q = 27\n",
    "model = sm.tsa.ARIMA(df_train['Qty'], order=(p, 0, q))\n",
    "model_fit = model.fit()\n",
    "\n",
    "# Mendapatkan nilai AIC\n",
    "aic = model_fit.aic\n",
    "\n",
    "print(f\"Nilai AIC: {aic}\")"
   ]
  },
  {
   "cell_type": "code",
   "execution_count": 97,
   "metadata": {},
   "outputs": [
    {
     "name": "stdout",
     "output_type": "stream",
     "text": [
      "Nilai AIC: 2537.70781053564\n"
     ]
    }
   ],
   "source": [
    "import statsmodels.api as sm\n",
    "\n",
    "p  = 48\n",
    "q = 30\n",
    "model = sm.tsa.ARIMA(df_train['Qty'], order=(p, 0, q))\n",
    "model_fit = model.fit()\n",
    "\n",
    "# Mendapatkan nilai AIC\n",
    "aic = model_fit.aic\n",
    "\n",
    "print(f\"Nilai AIC: {aic}\")"
   ]
  },
  {
   "cell_type": "code",
   "execution_count": 98,
   "metadata": {},
   "outputs": [
    {
     "name": "stdout",
     "output_type": "stream",
     "text": [
      "Nilai AIC: 2546.8441010449637\n"
     ]
    }
   ],
   "source": [
    "import statsmodels.api as sm\n",
    "\n",
    "p  = 48\n",
    "q = 37\n",
    "model = sm.tsa.ARIMA(df_train['Qty'], order=(p, 0, q))\n",
    "model_fit = model.fit()\n",
    "\n",
    "# Mendapatkan nilai AIC\n",
    "aic = model_fit.aic\n",
    "\n",
    "print(f\"Nilai AIC: {aic}\")"
   ]
  },
  {
   "cell_type": "code",
   "execution_count": 100,
   "metadata": {},
   "outputs": [
    {
     "name": "stdout",
     "output_type": "stream",
     "text": [
      "Nilai AIC: 2482.4344126344367\n"
     ]
    }
   ],
   "source": [
    "import statsmodels.api as sm\n",
    "\n",
    "p  = 10\n",
    "q = 7\n",
    "model = sm.tsa.ARIMA(df_train['Qty'], order=(p, 0, q))\n",
    "model_fit = model.fit()\n",
    "\n",
    "# Mendapatkan nilai AIC\n",
    "aic = model_fit.aic\n",
    "\n",
    "print(f\"Nilai AIC: {aic}\")"
   ]
  },
  {
   "cell_type": "code",
   "execution_count": 32,
   "metadata": {},
   "outputs": [
    {
     "name": "stdout",
     "output_type": "stream",
     "text": [
      "RUNNING THE L-BFGS-B CODE\n",
      "\n",
      "           * * *\n",
      "\n",
      "Machine precision = 2.220D-16\n",
      " N =            1     M =           10\n",
      "\n",
      "At X0         0 variables are exactly at the bounds\n",
      "\n",
      "At iterate    0    f=  5.38103D+00    |proj g|=  3.55271D-09\n",
      "\n",
      "           * * *\n",
      "\n",
      "Tit   = total number of iterations\n",
      "Tnf   = total number of function evaluations\n",
      "Tnint = total number of segments explored during Cauchy searches\n",
      "Skip  = number of BFGS updates skipped\n",
      "Nact  = number of active bounds at final generalized Cauchy point\n",
      "Projg = norm of the final projected gradient\n",
      "F     = final function value\n",
      "\n",
      "           * * *\n",
      "\n",
      "   N    Tit     Tnf  Tnint  Skip  Nact     Projg        F\n",
      "    1      0      1      0     0     0   3.553D-09   5.381D+00\n",
      "  F =   5.3810286097348454     \n",
      "\n",
      "CONVERGENCE: NORM_OF_PROJECTED_GRADIENT_<=_PGTOL            \n"
     ]
    },
    {
     "name": "stderr",
     "output_type": "stream",
     "text": [
      " This problem is unconstrained.\n"
     ]
    }
   ],
   "source": [
    "modelSARIMAX = sm.tsa.statespace.SARIMAX(df_train['Qty'], order=(0, 0, 0), seasonal_order=(0, 0, 0, 12))\n",
    "model_fit_SARIMAX = modelSARIMAX.fit()"
   ]
  },
  {
   "cell_type": "code",
   "execution_count": 33,
   "metadata": {},
   "outputs": [
    {
     "name": "stdout",
     "output_type": "stream",
     "text": [
      "3144.5207080851496\n"
     ]
    }
   ],
   "source": [
    "aic_value = model_fit_SARIMAX.aic\n",
    "print(aic_value)"
   ]
  },
  {
   "cell_type": "code",
   "execution_count": 34,
   "metadata": {},
   "outputs": [
    {
     "name": "stdout",
     "output_type": "stream",
     "text": [
      "RUNNING THE L-BFGS-B CODE\n",
      "\n",
      "           * * *\n",
      "\n",
      "Machine precision = 2.220D-16\n",
      " N =           17     M =           10\n",
      "\n",
      "At X0         0 variables are exactly at the bounds\n",
      "\n",
      "At iterate    0    f=  4.26013D+00    |proj g|=  9.42979D-02\n"
     ]
    },
    {
     "name": "stderr",
     "output_type": "stream",
     "text": [
      " This problem is unconstrained.\n"
     ]
    },
    {
     "name": "stdout",
     "output_type": "stream",
     "text": [
      "\n",
      "At iterate    5    f=  4.22670D+00    |proj g|=  7.12262D-02\n",
      "\n",
      "At iterate   10    f=  4.22054D+00    |proj g|=  1.15954D-02\n",
      "\n",
      "At iterate   15    f=  4.21105D+00    |proj g|=  4.62419D-02\n",
      "\n",
      "At iterate   20    f=  4.20844D+00    |proj g|=  2.30107D-02\n",
      "\n",
      "At iterate   25    f=  4.20768D+00    |proj g|=  1.17797D-02\n",
      "\n",
      "At iterate   30    f=  4.20730D+00    |proj g|=  3.95211D-03\n",
      "\n",
      "At iterate   35    f=  4.20704D+00    |proj g|=  1.72975D-02\n",
      "\n",
      "At iterate   40    f=  4.20674D+00    |proj g|=  8.13708D-03\n",
      "\n",
      "At iterate   45    f=  4.20524D+00    |proj g|=  4.12883D-02\n",
      "\n",
      "At iterate   50    f=  4.20445D+00    |proj g|=  6.60934D-02\n",
      "\n",
      "           * * *\n",
      "\n",
      "Tit   = total number of iterations\n",
      "Tnf   = total number of function evaluations\n",
      "Tnint = total number of segments explored during Cauchy searches\n",
      "Skip  = number of BFGS updates skipped\n",
      "Nact  = number of active bounds at final generalized Cauchy point\n",
      "Projg = norm of the final projected gradient\n",
      "F     = final function value\n",
      "\n",
      "           * * *\n",
      "\n",
      "   N    Tit     Tnf  Tnint  Skip  Nact     Projg        F\n",
      "   17     50     64      1     0     0   6.609D-02   4.204D+00\n",
      "  F =   4.2044461983286219     \n",
      "\n",
      "STOP: TOTAL NO. of ITERATIONS REACHED LIMIT                 \n"
     ]
    }
   ],
   "source": [
    "modelSARIMAX = sm.tsa.statespace.SARIMAX(df_train['Qty'], order=(4, 0, 4), seasonal_order=(4, 0, 4, 6))\n",
    "model_fit_SARIMAX = modelSARIMAX.fit()"
   ]
  },
  {
   "cell_type": "code",
   "execution_count": 35,
   "metadata": {},
   "outputs": [
    {
     "name": "stdout",
     "output_type": "stream",
     "text": [
      "2489.396579823915\n"
     ]
    }
   ],
   "source": [
    "aic_value = model_fit_SARIMAX.aic\n",
    "print(aic_value)"
   ]
  },
  {
   "cell_type": "code",
   "execution_count": 36,
   "metadata": {},
   "outputs": [
    {
     "name": "stderr",
     "output_type": "stream",
     "text": [
      " This problem is unconstrained.\n"
     ]
    },
    {
     "name": "stdout",
     "output_type": "stream",
     "text": [
      "RUNNING THE L-BFGS-B CODE\n",
      "\n",
      "           * * *\n",
      "\n",
      "Machine precision = 2.220D-16\n",
      " N =           17     M =           10\n",
      "\n",
      "At X0         0 variables are exactly at the bounds\n",
      "\n",
      "At iterate    0    f=  4.42532D+00    |proj g|=  3.66023D-01\n",
      "\n",
      "At iterate    5    f=  4.27062D+00    |proj g|=  6.33264D-02\n",
      "\n",
      "At iterate   10    f=  4.23507D+00    |proj g|=  1.09007D-02\n",
      "\n",
      "At iterate   15    f=  4.22885D+00    |proj g|=  9.73091D-03\n",
      "\n",
      "At iterate   20    f=  4.22363D+00    |proj g|=  9.22507D-02\n",
      "\n",
      "At iterate   25    f=  4.22125D+00    |proj g|=  2.00140D-02\n",
      "\n",
      "At iterate   30    f=  4.21844D+00    |proj g|=  2.90960D-02\n",
      "\n",
      "At iterate   35    f=  4.21784D+00    |proj g|=  2.80364D-02\n",
      "\n",
      "At iterate   40    f=  4.21697D+00    |proj g|=  1.08798D-02\n",
      "\n",
      "At iterate   45    f=  4.21674D+00    |proj g|=  8.32842D-03\n",
      "\n",
      "At iterate   50    f=  4.21665D+00    |proj g|=  2.34030D-02\n",
      "\n",
      "           * * *\n",
      "\n",
      "Tit   = total number of iterations\n",
      "Tnf   = total number of function evaluations\n",
      "Tnint = total number of segments explored during Cauchy searches\n",
      "Skip  = number of BFGS updates skipped\n",
      "Nact  = number of active bounds at final generalized Cauchy point\n",
      "Projg = norm of the final projected gradient\n",
      "F     = final function value\n",
      "\n",
      "           * * *\n",
      "\n",
      "   N    Tit     Tnf  Tnint  Skip  Nact     Projg        F\n",
      "   17     50     64      1     0     0   2.340D-02   4.217D+00\n",
      "  F =   4.2166477320570444     \n",
      "\n",
      "STOP: TOTAL NO. of ITERATIONS REACHED LIMIT                 \n"
     ]
    }
   ],
   "source": [
    "modelSARIMAX = sm.tsa.statespace.SARIMAX(df_train['Qty'], order=(4, 0, 4), seasonal_order=(4, 0, 4, 7))\n",
    "model_fit_SARIMAX = modelSARIMAX.fit()"
   ]
  },
  {
   "cell_type": "code",
   "execution_count": 37,
   "metadata": {},
   "outputs": [
    {
     "name": "stdout",
     "output_type": "stream",
     "text": [
      "2496.522275521314\n"
     ]
    }
   ],
   "source": [
    "aic_value = model_fit_SARIMAX.aic\n",
    "print(aic_value)"
   ]
  },
  {
   "cell_type": "code",
   "execution_count": 38,
   "metadata": {},
   "outputs": [
    {
     "name": "stdout",
     "output_type": "stream",
     "text": [
      "RUNNING THE L-BFGS-B CODE\n",
      "\n",
      "           * * *\n",
      "\n",
      "Machine precision = 2.220D-16\n",
      " N =           17     M =           10\n",
      "\n",
      "At X0         0 variables are exactly at the bounds\n",
      "\n",
      "At iterate    0    f=  4.29098D+00    |proj g|=  1.30392D-01\n"
     ]
    },
    {
     "name": "stderr",
     "output_type": "stream",
     "text": [
      " This problem is unconstrained.\n"
     ]
    },
    {
     "name": "stdout",
     "output_type": "stream",
     "text": [
      "\n",
      "At iterate    5    f=  4.25047D+00    |proj g|=  1.20278D-01\n",
      "\n",
      "At iterate   10    f=  4.24299D+00    |proj g|=  1.02149D-02\n",
      "\n",
      "At iterate   15    f=  4.23904D+00    |proj g|=  1.17005D-02\n",
      "\n",
      "At iterate   20    f=  4.23330D+00    |proj g|=  1.03843D-01\n",
      "\n",
      "At iterate   25    f=  4.23167D+00    |proj g|=  5.25377D-03\n",
      "\n",
      "At iterate   30    f=  4.23110D+00    |proj g|=  1.08239D-02\n",
      "\n",
      "At iterate   35    f=  4.23028D+00    |proj g|=  8.21889D-03\n",
      "\n",
      "At iterate   40    f=  4.22971D+00    |proj g|=  1.30615D-02\n",
      "\n",
      "At iterate   45    f=  4.22954D+00    |proj g|=  3.56562D-03\n",
      "\n",
      "At iterate   50    f=  4.22937D+00    |proj g|=  6.07135D-03\n",
      "\n",
      "           * * *\n",
      "\n",
      "Tit   = total number of iterations\n",
      "Tnf   = total number of function evaluations\n",
      "Tnint = total number of segments explored during Cauchy searches\n",
      "Skip  = number of BFGS updates skipped\n",
      "Nact  = number of active bounds at final generalized Cauchy point\n",
      "Projg = norm of the final projected gradient\n",
      "F     = final function value\n",
      "\n",
      "           * * *\n",
      "\n",
      "   N    Tit     Tnf  Tnint  Skip  Nact     Projg        F\n",
      "   17     50     70      1     0     0   6.071D-03   4.229D+00\n",
      "  F =   4.2293707831726470     \n",
      "\n",
      "STOP: TOTAL NO. of ITERATIONS REACHED LIMIT                 \n"
     ]
    }
   ],
   "source": [
    "modelSARIMAX = sm.tsa.statespace.SARIMAX(df_train['Qty'], order=(4, 0, 4), seasonal_order=(4, 0, 4, 8))\n",
    "model_fit_SARIMAX = modelSARIMAX.fit()"
   ]
  },
  {
   "cell_type": "code",
   "execution_count": 39,
   "metadata": {},
   "outputs": [
    {
     "name": "stdout",
     "output_type": "stream",
     "text": [
      "2503.9525373728256\n"
     ]
    }
   ],
   "source": [
    "aic_value = model_fit_SARIMAX.aic\n",
    "print(aic_value)"
   ]
  },
  {
   "cell_type": "code",
   "execution_count": 40,
   "metadata": {},
   "outputs": [
    {
     "name": "stderr",
     "output_type": "stream",
     "text": [
      " This problem is unconstrained.\n"
     ]
    },
    {
     "name": "stdout",
     "output_type": "stream",
     "text": [
      "RUNNING THE L-BFGS-B CODE\n",
      "\n",
      "           * * *\n",
      "\n",
      "Machine precision = 2.220D-16\n",
      " N =           17     M =           10\n",
      "\n",
      "At X0         0 variables are exactly at the bounds\n",
      "\n",
      "At iterate    0    f=  4.40618D+00    |proj g|=  2.90123D-01\n",
      "\n",
      "At iterate    5    f=  4.24544D+00    |proj g|=  5.30177D-02\n",
      "\n",
      "At iterate   10    f=  4.23154D+00    |proj g|=  1.93400D-02\n",
      "\n",
      "At iterate   15    f=  4.21923D+00    |proj g|=  2.00338D-02\n",
      "\n",
      "At iterate   20    f=  4.21283D+00    |proj g|=  3.76499D-02\n",
      "\n",
      "At iterate   25    f=  4.21157D+00    |proj g|=  6.46918D-03\n",
      "\n",
      "At iterate   30    f=  4.21071D+00    |proj g|=  3.03514D-02\n",
      "\n",
      "At iterate   35    f=  4.21036D+00    |proj g|=  2.47425D-02\n",
      "\n",
      "At iterate   40    f=  4.20921D+00    |proj g|=  1.40753D-02\n",
      "\n",
      "At iterate   45    f=  4.20807D+00    |proj g|=  9.11080D-02\n",
      "\n",
      "At iterate   50    f=  4.20772D+00    |proj g|=  9.38116D-03\n",
      "\n",
      "           * * *\n",
      "\n",
      "Tit   = total number of iterations\n",
      "Tnf   = total number of function evaluations\n",
      "Tnint = total number of segments explored during Cauchy searches\n",
      "Skip  = number of BFGS updates skipped\n",
      "Nact  = number of active bounds at final generalized Cauchy point\n",
      "Projg = norm of the final projected gradient\n",
      "F     = final function value\n",
      "\n",
      "           * * *\n",
      "\n",
      "   N    Tit     Tnf  Tnint  Skip  Nact     Projg        F\n",
      "   17     50     61      1     0     0   9.381D-03   4.208D+00\n",
      "  F =   4.2077214805523990     \n",
      "\n",
      "STOP: TOTAL NO. of ITERATIONS REACHED LIMIT                 \n"
     ]
    }
   ],
   "source": [
    "modelSARIMAX = sm.tsa.statespace.SARIMAX(df_train['Qty'], order=(4, 0, 4), seasonal_order=(4, 0, 4, 9))\n",
    "model_fit_SARIMAX = modelSARIMAX.fit()"
   ]
  },
  {
   "cell_type": "code",
   "execution_count": 41,
   "metadata": {},
   "outputs": [
    {
     "name": "stdout",
     "output_type": "stream",
     "text": [
      "2491.309344642601\n"
     ]
    }
   ],
   "source": [
    "aic_value = model_fit_SARIMAX.aic\n",
    "print(aic_value)"
   ]
  },
  {
   "cell_type": "code",
   "execution_count": 57,
   "metadata": {},
   "outputs": [
    {
     "name": "stderr",
     "output_type": "stream",
     "text": [
      " This problem is unconstrained.\n"
     ]
    },
    {
     "name": "stdout",
     "output_type": "stream",
     "text": [
      "RUNNING THE L-BFGS-B CODE\n",
      "\n",
      "           * * *\n",
      "\n",
      "Machine precision = 2.220D-16\n",
      " N =           17     M =           10\n",
      "\n",
      "At X0         0 variables are exactly at the bounds\n",
      "\n",
      "At iterate    0    f=  4.49974D+00    |proj g|=  3.99819D-01\n",
      "\n",
      "At iterate    5    f=  4.24626D+00    |proj g|=  4.77909D-02\n",
      "\n",
      "At iterate   10    f=  4.23919D+00    |proj g|=  1.88024D-02\n",
      "\n",
      "At iterate   15    f=  4.23612D+00    |proj g|=  9.36430D-03\n",
      "\n",
      "At iterate   20    f=  4.23242D+00    |proj g|=  1.03708D-02\n",
      "\n",
      "At iterate   25    f=  4.23018D+00    |proj g|=  1.09567D-02\n",
      "\n",
      "At iterate   30    f=  4.22877D+00    |proj g|=  2.57502D-02\n",
      "\n",
      "At iterate   35    f=  4.22797D+00    |proj g|=  3.10482D-02\n",
      "\n",
      "At iterate   40    f=  4.22754D+00    |proj g|=  1.68706D-02\n",
      "\n",
      "At iterate   45    f=  4.22713D+00    |proj g|=  9.70178D-03\n",
      "\n",
      "At iterate   50    f=  4.22704D+00    |proj g|=  7.39274D-03\n",
      "\n",
      "           * * *\n",
      "\n",
      "Tit   = total number of iterations\n",
      "Tnf   = total number of function evaluations\n",
      "Tnint = total number of segments explored during Cauchy searches\n",
      "Skip  = number of BFGS updates skipped\n",
      "Nact  = number of active bounds at final generalized Cauchy point\n",
      "Projg = norm of the final projected gradient\n",
      "F     = final function value\n",
      "\n",
      "           * * *\n",
      "\n",
      "   N    Tit     Tnf  Tnint  Skip  Nact     Projg        F\n",
      "   17     50     62      1     0     0   7.393D-03   4.227D+00\n",
      "  F =   4.2270359995733511     \n",
      "\n",
      "STOP: TOTAL NO. of ITERATIONS REACHED LIMIT                 \n"
     ]
    }
   ],
   "source": [
    "modelSARIMAX = sm.tsa.statespace.SARIMAX(df_train['Qty'], order=(4, 0, 4), seasonal_order=(4, 0, 4, 20))\n",
    "model_fit_SARIMAX = modelSARIMAX.fit()"
   ]
  },
  {
   "cell_type": "code",
   "execution_count": 58,
   "metadata": {},
   "outputs": [
    {
     "name": "stdout",
     "output_type": "stream",
     "text": [
      "2502.589023750837\n"
     ]
    }
   ],
   "source": [
    "aic_value = model_fit_SARIMAX.aic\n",
    "print(aic_value)"
   ]
  },
  {
   "cell_type": "code",
   "execution_count": 67,
   "metadata": {},
   "outputs": [
    {
     "name": "stdout",
     "output_type": "stream",
     "text": [
      "RUNNING THE L-BFGS-B CODE\n",
      "\n",
      "           * * *\n",
      "\n",
      "Machine precision = 2.220D-16\n",
      " N =           25     M =           10\n",
      "\n",
      "At X0         0 variables are exactly at the bounds\n",
      "\n",
      "At iterate    0    f=  4.25508D+00    |proj g|=  1.48705D-01\n"
     ]
    },
    {
     "name": "stderr",
     "output_type": "stream",
     "text": [
      " This problem is unconstrained.\n"
     ]
    },
    {
     "name": "stdout",
     "output_type": "stream",
     "text": [
      "\n",
      "At iterate    5    f=  4.23152D+00    |proj g|=  3.12893D-02\n",
      "\n",
      "At iterate   10    f=  4.22330D+00    |proj g|=  1.31519D-02\n",
      "\n",
      "At iterate   15    f=  4.22146D+00    |proj g|=  1.18368D-02\n",
      "\n",
      "At iterate   20    f=  4.21796D+00    |proj g|=  1.45014D-02\n",
      "\n",
      "At iterate   25    f=  4.21592D+00    |proj g|=  6.75444D-02\n",
      "\n",
      "At iterate   30    f=  4.21487D+00    |proj g|=  6.70002D-02\n",
      "\n",
      "At iterate   35    f=  4.21418D+00    |proj g|=  4.53479D-02\n",
      "\n",
      "At iterate   40    f=  4.21382D+00    |proj g|=  3.92744D-02\n",
      "\n",
      "At iterate   45    f=  4.21348D+00    |proj g|=  2.80905D-02\n",
      "\n",
      "At iterate   50    f=  4.21323D+00    |proj g|=  7.82769D-02\n",
      "\n",
      "           * * *\n",
      "\n",
      "Tit   = total number of iterations\n",
      "Tnf   = total number of function evaluations\n",
      "Tnint = total number of segments explored during Cauchy searches\n",
      "Skip  = number of BFGS updates skipped\n",
      "Nact  = number of active bounds at final generalized Cauchy point\n",
      "Projg = norm of the final projected gradient\n",
      "F     = final function value\n",
      "\n",
      "           * * *\n",
      "\n",
      "   N    Tit     Tnf  Tnint  Skip  Nact     Projg        F\n",
      "   25     50     58      1     0     0   7.828D-02   4.213D+00\n",
      "  F =   4.2132298150519771     \n",
      "\n",
      "STOP: TOTAL NO. of ITERATIONS REACHED LIMIT                 \n"
     ]
    }
   ],
   "source": [
    "modelSARIMAX = sm.tsa.statespace.SARIMAX(df_train['Qty'], order=(4, 0, 8), seasonal_order=(4, 0, 8, 30))\n",
    "model_fit_SARIMAX = modelSARIMAX.fit()"
   ]
  },
  {
   "cell_type": "code",
   "execution_count": 68,
   "metadata": {},
   "outputs": [
    {
     "name": "stdout",
     "output_type": "stream",
     "text": [
      "2510.5262119903546\n"
     ]
    }
   ],
   "source": [
    "aic_value = model_fit_SARIMAX.aic\n",
    "print(aic_value)"
   ]
  },
  {
   "cell_type": "code",
   "execution_count": 69,
   "metadata": {},
   "outputs": [
    {
     "name": "stdout",
     "output_type": "stream",
     "text": [
      "292    53.280206\n",
      "293    45.173385\n",
      "294    54.510786\n",
      "295    43.165745\n",
      "296    54.637873\n",
      "         ...    \n",
      "360    45.976963\n",
      "361    47.121261\n",
      "362    46.213776\n",
      "363    45.555072\n",
      "364    49.779503\n",
      "Name: predicted_mean, Length: 73, dtype: float64\n"
     ]
    }
   ],
   "source": [
    "# Membuat prediksi dengan model yang telah dibangun\n",
    "forecast_SARIMAX = model_fit_SARIMAX.forecast(steps=len(df_test))  \n",
    "\n",
    "# Menampilkan hasil prediksi\n",
    "print(forecast_SARIMAX)"
   ]
  },
  {
   "cell_type": "code",
   "execution_count": 70,
   "metadata": {},
   "outputs": [
    {
     "data": {
      "image/png": "[encoded data removed]",
      "text/plain": [
       "<Figure size 1200x600 with 1 Axes>"
      ]
     },
     "metadata": {},
     "output_type": "display_data"
    }
   ],
   "source": [
    "import matplotlib.pyplot as plt\n",
    "\n",
    "# Ubah df_test dan forecast dengan data yang sesuai\n",
    "plt.figure(figsize=(12,6))\n",
    "plt.plot(df_regression['Date'], df_regression['Qty'], label='Actual', color = 'lightblue')\n",
    "plt.plot(df_test['Date'], forecast_SARIMAX, label='Forecast', color='red')\n",
    "plt.title('Actual vs Forecast')\n",
    "plt.xlabel('Date')\n",
    "plt.ylabel('Qty')\n",
    "plt.legend()\n",
    "plt.show()"
   ]
  },
  {
   "cell_type": "code",
   "execution_count": 1,
   "metadata": {},
   "outputs": [
    {
     "ename": "NameError",
     "evalue": "name 'df_regression' is not defined",
     "output_type": "error",
     "traceback": [
      "\u001b[0;31m---------------------------------------------------------------------------\u001b[0m",
      "\u001b[0;31mNameError\u001b[0m                                 Traceback (most recent call last)",
      "Cell \u001b[0;32mIn[1], line 4\u001b[0m\n\u001b[1;32m      1\u001b[0m \u001b[39mimport\u001b[39;00m \u001b[39mstatsmodels\u001b[39;00m\u001b[39m.\u001b[39;00m\u001b[39mapi\u001b[39;00m \u001b[39mas\u001b[39;00m \u001b[39msm\u001b[39;00m\n\u001b[1;32m      3\u001b[0m \u001b[39m# Membangun model SARMA\u001b[39;00m\n\u001b[0;32m----> 4\u001b[0m model_SARMA \u001b[39m=\u001b[39m sm\u001b[39m.\u001b[39mtsa\u001b[39m.\u001b[39mSARIMAX(df_regression[\u001b[39m'\u001b[39m\u001b[39mQty\u001b[39m\u001b[39m'\u001b[39m], order\u001b[39m=\u001b[39m(\u001b[39m4\u001b[39m, \u001b[39m0\u001b[39m, \u001b[39m8\u001b[39m), seasonal_order\u001b[39m=\u001b[39m(\u001b[39m4\u001b[39m, \u001b[39m0\u001b[39m, \u001b[39m8\u001b[39m, \u001b[39m12\u001b[39m))\n\u001b[1;32m      5\u001b[0m model_fit_SARMA \u001b[39m=\u001b[39m model_SARMA\u001b[39m.\u001b[39mfit()\n\u001b[1;32m      7\u001b[0m \u001b[39m# Melihat hasil AIC dari model yang dipilih\u001b[39;00m\n",
      "\u001b[0;31mNameError\u001b[0m: name 'df_regression' is not defined"
     ]
    }
   ],
   "source": [
    "import statsmodels.api as sm\n",
    "\n",
    "# Membangun model SARMA\n",
    "model_SARMA = sm.tsa.SARIMAX(df_regression['Qty'], order=(4, 0, 8), seasonal_order=(4, 0, 8, 12))\n",
    "model_fit_SARMA = model_SARMA.fit()\n",
    "\n",
    "# Melihat hasil AIC dari model yang dipilih\n",
    "print(model_fit_SARMA.aic)\n",
    "\n",
    "# Menampilkan ringkasan model\n",
    "print(model_fit_SARMA.summary())\n"
   ]
  }
 ],
 "metadata": {
  "kernelspec": {
   "display_name": "Python 3",
   "language": "python",
   "name": "python3"
  },
  "language_info": {
   "codemirror_mode": {
    "name": "ipython",
    "version": 3
   },
   "file_extension": ".py",
   "mimetype": "text/x-python",
   "name": "python",
   "nbconvert_exporter": "python",
   "pygments_lexer": "ipython3",
   "version": "3.11.3"
  },
  "orig_nbformat": 4
 },
 "nbformat": 4,
 "nbformat_minor": 2
}
